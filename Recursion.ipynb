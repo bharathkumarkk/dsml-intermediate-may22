{
  "nbformat": 4,
  "nbformat_minor": 0,
  "metadata": {
    "colab": {
      "name": "Recursion",
      "provenance": [],
      "authorship_tag": "ABX9TyMoP9IUnBh18KwqSsnjmqr0",
      "include_colab_link": true
    },
    "kernelspec": {
      "name": "python3",
      "display_name": "Python 3"
    },
    "language_info": {
      "name": "python"
    }
  },
  "cells": [
    {
      "cell_type": "markdown",
      "metadata": {
        "id": "view-in-github",
        "colab_type": "text"
      },
      "source": [
        "<a href=\"https://colab.research.google.com/github/scaleracademy/dsml-intermediate-may22/blob/main/Recursion.ipynb\" target=\"_parent\"><img src=\"https://colab.research.google.com/assets/colab-badge.svg\" alt=\"Open In Colab\"/></a>"
      ]
    },
    {
      "cell_type": "code",
      "execution_count": 1,
      "metadata": {
        "id": "q1Apgjx6g9Wv"
      },
      "outputs": [],
      "source": [
        "def factorial(n):\n",
        "  result = 1\n",
        "  for i in range(1, n+1):\n",
        "    result *= i\n",
        "\n",
        "  return result"
      ]
    },
    {
      "cell_type": "code",
      "source": [
        "factorial(5)"
      ],
      "metadata": {
        "colab": {
          "base_uri": "https://localhost:8080/"
        },
        "id": "2xMwIyphoH8m",
        "outputId": "7b6a0db6-2061-4618-8c47-a75156acbe57"
      },
      "execution_count": 2,
      "outputs": [
        {
          "output_type": "execute_result",
          "data": {
            "text/plain": [
              "120"
            ]
          },
          "metadata": {},
          "execution_count": 2
        }
      ]
    },
    {
      "cell_type": "code",
      "source": [
        "def factorial(n):\n",
        "  if n <= 1:\n",
        "    return 1\n",
        "\n",
        "  return n * factorial(n-1)"
      ],
      "metadata": {
        "id": "ZfU8WReVoIjI"
      },
      "execution_count": 3,
      "outputs": []
    },
    {
      "cell_type": "code",
      "source": [
        "factorial(5)"
      ],
      "metadata": {
        "colab": {
          "base_uri": "https://localhost:8080/"
        },
        "id": "q08RVEhxpkXO",
        "outputId": "3829b29c-3d51-4d8d-e16a-2742c1abc7c3"
      },
      "execution_count": 4,
      "outputs": [
        {
          "output_type": "execute_result",
          "data": {
            "text/plain": [
              "120"
            ]
          },
          "metadata": {},
          "execution_count": 4
        }
      ]
    },
    {
      "cell_type": "code",
      "source": [
        "def merge(arr1, arr2):\n",
        "  n1 = len(arr1)\n",
        "  n2 = len(arr2)\n",
        "  result = []\n",
        "\n",
        "  i, j = 0, 0\n",
        "  while i < n1 and j < n2:\n",
        "    if arr1[i] < arr2[j]:\n",
        "      result.append(arr1[i])\n",
        "      i += 1\n",
        "    else:\n",
        "      result.append(arr2[j])\n",
        "      j += 1\n",
        "\n",
        "  if i < n1:\n",
        "    result += arr1[i:]\n",
        "  \n",
        "  if j < n2:\n",
        "    result += arr2[j:]\n",
        "  \n",
        "  return result"
      ],
      "metadata": {
        "id": "ThH7US9xy1DS"
      },
      "execution_count": 13,
      "outputs": []
    },
    {
      "cell_type": "code",
      "source": [
        "merge([1, 1, 1, 1], [2, 2, 2, 2])"
      ],
      "metadata": {
        "colab": {
          "base_uri": "https://localhost:8080/"
        },
        "id": "hk9Q1mZJy2Hl",
        "outputId": "fb3a06e3-f6d9-4d94-d307-4e61931bb9c1"
      },
      "execution_count": 14,
      "outputs": [
        {
          "output_type": "execute_result",
          "data": {
            "text/plain": [
              "[1, 1, 1, 1, 2, 2, 2, 2]"
            ]
          },
          "metadata": {},
          "execution_count": 14
        }
      ]
    },
    {
      "cell_type": "code",
      "source": [
        "def merge_sort(arr):\n",
        "  n = len(arr)\n",
        "\n",
        "  # base case\n",
        "  if n <= 1:\n",
        "    return arr\n",
        "\n",
        "  # sub problems\n",
        "  left = merge_sort(arr[0:n//2])\n",
        "  right = merge_sort(arr[n//2:n])\n",
        "\n",
        "  return merge(left, right)"
      ],
      "metadata": {
        "id": "PsNKgZv7pmQm"
      },
      "execution_count": 15,
      "outputs": []
    },
    {
      "cell_type": "code",
      "source": [
        "print(merge_sort([5, 1, 4, 2, 3]))"
      ],
      "metadata": {
        "colab": {
          "base_uri": "https://localhost:8080/"
        },
        "id": "g1dxCbPd0Kgg",
        "outputId": "bd019f44-e338-4743-c62f-db0d861d41a6"
      },
      "execution_count": 16,
      "outputs": [
        {
          "output_type": "execute_result",
          "data": {
            "text/plain": [
              "[1, 2, 3, 4, 5]"
            ]
          },
          "metadata": {},
          "execution_count": 16
        }
      ]
    },
    {
      "cell_type": "code",
      "source": [
        ""
      ],
      "metadata": {
        "id": "ilp9gBCV0Ok8"
      },
      "execution_count": null,
      "outputs": []
    }
  ]
}