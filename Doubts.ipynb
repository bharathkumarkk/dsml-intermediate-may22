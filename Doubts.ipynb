{
  "nbformat": 4,
  "nbformat_minor": 0,
  "metadata": {
    "colab": {
      "name": "Doubts",
      "provenance": [],
      "authorship_tag": "ABX9TyNJXrwk64qzz4JSEoZkc3x5",
      "include_colab_link": true
    },
    "kernelspec": {
      "name": "python3",
      "display_name": "Python 3"
    },
    "language_info": {
      "name": "python"
    }
  },
  "cells": [
    {
      "cell_type": "markdown",
      "metadata": {
        "id": "view-in-github",
        "colab_type": "text"
      },
      "source": [
        "<a href=\"https://colab.research.google.com/github/scaleracademy/dsml-intermediate-may22/blob/main/Doubts.ipynb\" target=\"_parent\"><img src=\"https://colab.research.google.com/assets/colab-badge.svg\" alt=\"Open In Colab\"/></a>"
      ]
    },
    {
      "cell_type": "code",
      "source": [
        "s = 5\n",
        "def foo():\n",
        "  global s\n",
        "  s += 10\n",
        "\n",
        "  print(s)\n",
        "\n",
        "foo()"
      ],
      "metadata": {
        "colab": {
          "base_uri": "https://localhost:8080/"
        },
        "id": "AAVGOjsFT4c7",
        "outputId": "38c2e917-7257-4761-d17b-44d05cbccfb0"
      },
      "execution_count": 10,
      "outputs": [
        {
          "output_type": "stream",
          "name": "stdout",
          "text": [
            "15\n"
          ]
        }
      ]
    },
    {
      "cell_type": "code",
      "source": [
        "s = 5\n",
        "\n",
        "def foo():\n",
        "  s += 10\n",
        "  print(s)\n",
        "\n",
        "foo() # 10\n",
        "print(s) # 5"
      ],
      "metadata": {
        "colab": {
          "base_uri": "https://localhost:8080/",
          "height": 347
        },
        "id": "pOXOLByHTWc7",
        "outputId": "0553c0b0-3e52-4a57-a66c-e4defefa07f9"
      },
      "execution_count": 6,
      "outputs": [
        {
          "output_type": "error",
          "ename": "UnboundLocalError",
          "evalue": "ignored",
          "traceback": [
            "\u001b[0;31m---------------------------------------------------------------------------\u001b[0m",
            "\u001b[0;31mUnboundLocalError\u001b[0m                         Traceback (most recent call last)",
            "\u001b[0;32m<ipython-input-6-58a980083818>\u001b[0m in \u001b[0;36m<module>\u001b[0;34m()\u001b[0m\n\u001b[1;32m      5\u001b[0m   \u001b[0mprint\u001b[0m\u001b[0;34m(\u001b[0m\u001b[0ms\u001b[0m\u001b[0;34m)\u001b[0m\u001b[0;34m\u001b[0m\u001b[0;34m\u001b[0m\u001b[0m\n\u001b[1;32m      6\u001b[0m \u001b[0;34m\u001b[0m\u001b[0m\n\u001b[0;32m----> 7\u001b[0;31m \u001b[0mfoo\u001b[0m\u001b[0;34m(\u001b[0m\u001b[0;34m)\u001b[0m \u001b[0;31m# 10\u001b[0m\u001b[0;34m\u001b[0m\u001b[0;34m\u001b[0m\u001b[0m\n\u001b[0m\u001b[1;32m      8\u001b[0m \u001b[0mprint\u001b[0m\u001b[0;34m(\u001b[0m\u001b[0ms\u001b[0m\u001b[0;34m)\u001b[0m \u001b[0;31m# 5\u001b[0m\u001b[0;34m\u001b[0m\u001b[0;34m\u001b[0m\u001b[0m\n",
            "\u001b[0;32m<ipython-input-6-58a980083818>\u001b[0m in \u001b[0;36mfoo\u001b[0;34m()\u001b[0m\n\u001b[1;32m      2\u001b[0m \u001b[0;34m\u001b[0m\u001b[0m\n\u001b[1;32m      3\u001b[0m \u001b[0;32mdef\u001b[0m \u001b[0mfoo\u001b[0m\u001b[0;34m(\u001b[0m\u001b[0;34m)\u001b[0m\u001b[0;34m:\u001b[0m\u001b[0;34m\u001b[0m\u001b[0;34m\u001b[0m\u001b[0m\n\u001b[0;32m----> 4\u001b[0;31m   \u001b[0ms\u001b[0m \u001b[0;34m+=\u001b[0m \u001b[0;36m10\u001b[0m\u001b[0;34m\u001b[0m\u001b[0;34m\u001b[0m\u001b[0m\n\u001b[0m\u001b[1;32m      5\u001b[0m   \u001b[0mprint\u001b[0m\u001b[0;34m(\u001b[0m\u001b[0ms\u001b[0m\u001b[0;34m)\u001b[0m\u001b[0;34m\u001b[0m\u001b[0;34m\u001b[0m\u001b[0m\n\u001b[1;32m      6\u001b[0m \u001b[0;34m\u001b[0m\u001b[0m\n",
            "\u001b[0;31mUnboundLocalError\u001b[0m: local variable 's' referenced before assignment"
          ]
        }
      ]
    },
    {
      "cell_type": "code",
      "source": [
        "foo()"
      ],
      "metadata": {
        "colab": {
          "base_uri": "https://localhost:8080/"
        },
        "id": "yP4qubTUTWRm",
        "outputId": "8ffa61b1-74c6-4b4e-80c0-27b95ce700ee"
      },
      "execution_count": 3,
      "outputs": [
        {
          "output_type": "stream",
          "name": "stdout",
          "text": [
            "5\n"
          ]
        }
      ]
    },
    {
      "cell_type": "code",
      "execution_count": 9,
      "metadata": {
        "colab": {
          "base_uri": "https://localhost:8080/"
        },
        "id": "YqRpqPt0RklL",
        "outputId": "854d0528-81d9-4762-e277-3dda3927301d"
      },
      "outputs": [
        {
          "output_type": "stream",
          "name": "stdout",
          "text": [
            "2.5928571428571425\n"
          ]
        }
      ],
      "source": [
        "s = 0\n",
        "\n",
        "def harmonic_sum(n): \n",
        "  if n==0: \n",
        "    return s \n",
        "  elif n>0: \n",
        "    s+=(1/n) \n",
        "    n-=1 \n",
        "    return harmonic_sum(n) \n",
        "    \n",
        "print(harmonic_sum(7))"
      ]
    },
    {
      "cell_type": "code",
      "source": [
        "from functools import reduce\n",
        "\n",
        "def compose(*funcs):\n",
        "  def foo(x):\n",
        "    return reduce(\n",
        "        lambda acc, func: func(acc), # func to reduce\n",
        "        funcs, # iterable\n",
        "        x # starting value\n",
        "    )\n",
        "  \n",
        "  return foo"
      ],
      "metadata": {
        "id": "KERwAU0mTMjI"
      },
      "execution_count": 17,
      "outputs": []
    },
    {
      "cell_type": "code",
      "source": [
        "g = lambda x: 2*x\n",
        "f = lambda x: x**2\n",
        "\n",
        "# g(f(5)) # 2x^2\n",
        "\n",
        "new_func = compose(f, g)\n",
        "\n",
        "new_func(10)"
      ],
      "metadata": {
        "colab": {
          "base_uri": "https://localhost:8080/"
        },
        "id": "gWvKx1OKXrLy",
        "outputId": "17be6bdb-1322-4b7c-e9e5-985dc091f258"
      },
      "execution_count": 19,
      "outputs": [
        {
          "output_type": "execute_result",
          "data": {
            "text/plain": [
              "200"
            ]
          },
          "metadata": {},
          "execution_count": 19
        }
      ]
    },
    {
      "cell_type": "code",
      "source": [
        "compose(g, f)(5)"
      ],
      "metadata": {
        "colab": {
          "base_uri": "https://localhost:8080/"
        },
        "id": "P07H9ne8X0ph",
        "outputId": "7a24c74a-37a7-4c3b-bc8d-09a56afc5886"
      },
      "execution_count": 20,
      "outputs": [
        {
          "output_type": "execute_result",
          "data": {
            "text/plain": [
              "100"
            ]
          },
          "metadata": {},
          "execution_count": 20
        }
      ]
    },
    {
      "cell_type": "code",
      "source": [
        ""
      ],
      "metadata": {
        "id": "8muwjtcSYxhs"
      },
      "execution_count": null,
      "outputs": []
    },
    {
      "cell_type": "markdown",
      "source": [
        "Problem Description: \n",
        "\n",
        "In this exercise, complete the function func, which takes integers, names, and numbers as the parameters. \n",
        "- Use map() to return the list of the squares of each integers. \n",
        "- Use filter() to return the list with only those names that have less than or equal to seven letters. \n",
        "- Use reduce() to return the product of elements of list numbers. \n",
        "\n",
        "```\n",
        "4 6 3 9 2 8 12\n",
        "scaler interviewbit rishabh student course\n",
        "4 6 9 23 5\n",
        "```"
      ],
      "metadata": {
        "id": "748SmojHcRKU"
      }
    },
    {
      "cell_type": "code",
      "source": [
        "from functools import reduce\n",
        "\n",
        "def func(integers, names, numbers):\n",
        "  print(list(map(lambda x: x**2, integers)))\n",
        "  print(list(filter(lambda x: len(x) <= 7, names)))\n",
        "  print(reduce(lambda acc, x: acc*x, numbers))\n",
        "\n",
        "func(\n",
        "    [4, 6, 3, 9, 2, 8, 12],\n",
        "    [\"scaler\", \"interviewbit\", \"rishabh\", \"student\", \"course\"],\n",
        "    [4, 6, 9, 23, 5]\n",
        ")"
      ],
      "metadata": {
        "colab": {
          "base_uri": "https://localhost:8080/"
        },
        "id": "g4WI_HJ-cRpM",
        "outputId": "7ab811de-08b2-4b2c-a739-21266d18f9c0"
      },
      "execution_count": 25,
      "outputs": [
        {
          "output_type": "stream",
          "name": "stdout",
          "text": [
            "[16, 36, 9, 81, 4, 64, 144]\n",
            "['scaler', 'rishabh', 'student', 'course']\n",
            "24840\n"
          ]
        }
      ]
    },
    {
      "cell_type": "code",
      "source": [
        "def fibonacci(n):\n",
        "  if n <= 1:\n",
        "    return n\n",
        "  \n",
        "  return fibonacci(n-1) + fibonacci(n-2)"
      ],
      "metadata": {
        "id": "wR3QgYYAc9QC"
      },
      "execution_count": null,
      "outputs": []
    },
    {
      "cell_type": "code",
      "source": [
        "# arr will always be sorted\n",
        "def binary_search(arr, el):\n",
        "  start = 0\n",
        "  end = len(arr) - 1\n",
        "\n",
        "  while start <= end:\n",
        "    mid = (start + end) // 2\n",
        "\n",
        "    if arr[mid] == el:\n",
        "      return mid\n",
        "\n",
        "    if arr[mid] > el:\n",
        "      end = mid - 1\n",
        "    elif arr[mid] < el:\n",
        "      start = mid + 1\n",
        "  \n",
        "  # If element was not found I'm gonna return -1\n",
        "  return -1\n"
      ],
      "metadata": {
        "id": "QVhhDdDekdr5"
      },
      "execution_count": 43,
      "outputs": []
    },
    {
      "cell_type": "code",
      "source": [
        "binary_search([1, 2, 3, 5, 6], 6)"
      ],
      "metadata": {
        "colab": {
          "base_uri": "https://localhost:8080/"
        },
        "id": "FhlDCREmkeDf",
        "outputId": "1c7562cc-6671-42cd-ba32-b13e71afcd24"
      },
      "execution_count": 44,
      "outputs": [
        {
          "output_type": "execute_result",
          "data": {
            "text/plain": [
              "4"
            ]
          },
          "metadata": {},
          "execution_count": 44
        }
      ]
    },
    {
      "cell_type": "code",
      "source": [
        "def binary_search(arr, el, start, end):\n",
        "  if start > end:\n",
        "    return -1\n",
        "\n",
        "  mid = (start + end) // 2\n",
        "\n",
        "  if arr[mid] == el:\n",
        "    return mid\n",
        "\n",
        "  if arr[mid] > el:\n",
        "    return binary_search(arr, el, start, mid - 1)\n",
        "  elif arr[mid] < el:\n",
        "    return binary_search(arr, el, mid + 1, end)"
      ],
      "metadata": {
        "id": "LTw4c40akf_3"
      },
      "execution_count": 45,
      "outputs": []
    },
    {
      "cell_type": "code",
      "source": [
        "binary_search([1, 2, 3, 4, 5, 6], 4, 0, 5)"
      ],
      "metadata": {
        "colab": {
          "base_uri": "https://localhost:8080/"
        },
        "id": "5hesyNFwnRFu",
        "outputId": "55c70f46-c5e5-41b6-a9a8-c0952d6a7f29"
      },
      "execution_count": 48,
      "outputs": [
        {
          "output_type": "execute_result",
          "data": {
            "text/plain": [
              "3"
            ]
          },
          "metadata": {},
          "execution_count": 48
        }
      ]
    },
    {
      "cell_type": "code",
      "source": [
        "def fun(n):\n",
        "  if (n > 50):\n",
        "    return n - 5\n",
        "  \n",
        "  return fun(fun(n+11))\n",
        "print(fun(45))"
      ],
      "metadata": {
        "colab": {
          "base_uri": "https://localhost:8080/"
        },
        "id": "WKDnsEXinTV4",
        "outputId": "1067c7c1-0073-4dce-e365-be88296faaf3"
      },
      "execution_count": 49,
      "outputs": [
        {
          "output_type": "stream",
          "name": "stdout",
          "text": [
            "46\n"
          ]
        }
      ]
    },
    {
      "cell_type": "code",
      "source": [
        "arr = [1, 2, 3]\n",
        "\n",
        "arr += [4, 5, 6]\n",
        "\n",
        "print(arr)"
      ],
      "metadata": {
        "colab": {
          "base_uri": "https://localhost:8080/"
        },
        "id": "NjeXw7aKqwCz",
        "outputId": "3855f57e-1236-401f-8079-9c093309107e"
      },
      "execution_count": 51,
      "outputs": [
        {
          "output_type": "stream",
          "name": "stdout",
          "text": [
            "[1, 2, 3, 4, 5, 6]\n"
          ]
        }
      ]
    },
    {
      "cell_type": "code",
      "source": [
        "def flatten(arr):\n",
        "  # arr = [1, 2, [3,[4,5],6], 7]\n",
        "  result = []\n",
        "\n",
        "  for x in arr:\n",
        "    if isinstance(x, list):\n",
        "      result.extend(flatten(x))\n",
        "    else:\n",
        "      result.append(x)\n",
        "\n",
        "  return result\n"
      ],
      "metadata": {
        "id": "OqaAycSap7p1"
      },
      "execution_count": 56,
      "outputs": []
    },
    {
      "cell_type": "code",
      "source": [
        "arr = [1,2,[3,[4,5],6],7]\n",
        "flatten(arr)"
      ],
      "metadata": {
        "colab": {
          "base_uri": "https://localhost:8080/"
        },
        "id": "Z9uAKl-to74Y",
        "outputId": "06589dac-6678-4990-8425-2f8b9fed2fcb"
      },
      "execution_count": 57,
      "outputs": [
        {
          "output_type": "execute_result",
          "data": {
            "text/plain": [
              "[1, 2, 3, 4, 5, 6, 7]"
            ]
          },
          "metadata": {},
          "execution_count": 57
        }
      ]
    },
    {
      "cell_type": "code",
      "source": [
        "arr = [1, 2, 3, 4]"
      ],
      "metadata": {
        "id": "iOgrRXHrp7Wb"
      },
      "execution_count": 54,
      "outputs": []
    },
    {
      "cell_type": "code",
      "source": [
        "arr.extend?"
      ],
      "metadata": {
        "id": "IdhlBM9HsHws"
      },
      "execution_count": 55,
      "outputs": []
    },
    {
      "cell_type": "code",
      "source": [
        "flatten = lambda arr: reduce(\n",
        "    lambda acc, x: acc + x, \n",
        "    map(\n",
        "        lambda x: flatten(x) if isinstance(x, list) else [x], \n",
        "        arr\n",
        "    ), \n",
        "    []\n",
        ")"
      ],
      "metadata": {
        "id": "WvXeRkF_sITy"
      },
      "execution_count": 64,
      "outputs": []
    },
    {
      "cell_type": "code",
      "source": [
        "arr = [1,2,[3,[4,5],6],7]\n",
        "flatten(arr)"
      ],
      "metadata": {
        "colab": {
          "base_uri": "https://localhost:8080/"
        },
        "id": "yKrmcGsksi9Y",
        "outputId": "9e5eb7f3-7988-4c39-abf0-a02f3d79d9bc"
      },
      "execution_count": 65,
      "outputs": [
        {
          "output_type": "execute_result",
          "data": {
            "text/plain": [
              "[1, 2, 3, 4, 5, 6, 7]"
            ]
          },
          "metadata": {},
          "execution_count": 65
        }
      ]
    }
  ]
}