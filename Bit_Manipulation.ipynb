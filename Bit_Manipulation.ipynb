{
  "nbformat": 4,
  "nbformat_minor": 0,
  "metadata": {
    "colab": {
      "name": "Bit Manipulation",
      "provenance": [],
      "authorship_tag": "ABX9TyMTG4vzl+vChnw3RYfG11ud",
      "include_colab_link": true
    },
    "kernelspec": {
      "name": "python3",
      "display_name": "Python 3"
    },
    "language_info": {
      "name": "python"
    }
  },
  "cells": [
    {
      "cell_type": "markdown",
      "metadata": {
        "id": "view-in-github",
        "colab_type": "text"
      },
      "source": [
        "<a href=\"https://colab.research.google.com/github/scaleracademy/dsml-intermediate-may22/blob/main/Bit_Manipulation.ipynb\" target=\"_parent\"><img src=\"https://colab.research.google.com/assets/colab-badge.svg\" alt=\"Open In Colab\"/></a>"
      ]
    },
    {
      "cell_type": "code",
      "execution_count": 5,
      "metadata": {
        "id": "jGfURzz3-JQg"
      },
      "outputs": [],
      "source": [
        "def divide(a, b):\n",
        "  try:\n",
        "    if b == 0:\n",
        "      raise ZeroDivisionError()\n",
        "    print(a/b)\n",
        "  except Exception as err:\n",
        "    print(\"error occurred\")\n",
        "  else:\n",
        "    print(\"done\")"
      ]
    },
    {
      "cell_type": "code",
      "source": [
        "divide(10, 9)"
      ],
      "metadata": {
        "colab": {
          "base_uri": "https://localhost:8080/"
        },
        "id": "1fxhds-1C8Hv",
        "outputId": "04957892-b048-4a22-a2c5-b47b7f51f2a7"
      },
      "execution_count": 7,
      "outputs": [
        {
          "output_type": "stream",
          "name": "stdout",
          "text": [
            "1.1111111111111112\n"
          ]
        },
        {
          "output_type": "execute_result",
          "data": {
            "text/plain": [
              "1"
            ]
          },
          "metadata": {},
          "execution_count": 7
        }
      ]
    },
    {
      "cell_type": "code",
      "source": [
        "5 and 6"
      ],
      "metadata": {
        "colab": {
          "base_uri": "https://localhost:8080/"
        },
        "id": "v35GxIO3C9KX",
        "outputId": "2eea3270-ff31-4a7d-ede8-f4454eb531e0"
      },
      "execution_count": 9,
      "outputs": [
        {
          "output_type": "execute_result",
          "data": {
            "text/plain": [
              "6"
            ]
          },
          "metadata": {},
          "execution_count": 9
        }
      ]
    },
    {
      "cell_type": "code",
      "source": [
        "5 & 6"
      ],
      "metadata": {
        "colab": {
          "base_uri": "https://localhost:8080/"
        },
        "id": "qCCosxXcFUlB",
        "outputId": "49b7227c-462a-45b6-ba1f-6b5ba9a441ab"
      },
      "execution_count": 10,
      "outputs": [
        {
          "output_type": "execute_result",
          "data": {
            "text/plain": [
              "4"
            ]
          },
          "metadata": {},
          "execution_count": 10
        }
      ]
    },
    {
      "cell_type": "code",
      "source": [
        "5 & \"jatin\""
      ],
      "metadata": {
        "colab": {
          "base_uri": "https://localhost:8080/",
          "height": 169
        },
        "id": "bgB8lNO_HJWh",
        "outputId": "802c9dd7-0723-4910-84d0-21f7d054c4d7"
      },
      "execution_count": 11,
      "outputs": [
        {
          "output_type": "error",
          "ename": "TypeError",
          "evalue": "ignored",
          "traceback": [
            "\u001b[0;31m---------------------------------------------------------------------------\u001b[0m",
            "\u001b[0;31mTypeError\u001b[0m                                 Traceback (most recent call last)",
            "\u001b[0;32m<ipython-input-11-9d5176f02533>\u001b[0m in \u001b[0;36m<module>\u001b[0;34m()\u001b[0m\n\u001b[0;32m----> 1\u001b[0;31m \u001b[0;36m5\u001b[0m \u001b[0;34m&\u001b[0m \u001b[0;34m\"jatin\"\u001b[0m\u001b[0;34m\u001b[0m\u001b[0;34m\u001b[0m\u001b[0m\n\u001b[0m",
            "\u001b[0;31mTypeError\u001b[0m: unsupported operand type(s) for &: 'int' and 'str'"
          ]
        }
      ]
    },
    {
      "cell_type": "code",
      "source": [
        "1.5 & 1.5"
      ],
      "metadata": {
        "colab": {
          "base_uri": "https://localhost:8080/",
          "height": 169
        },
        "id": "7MFSxUZUKCT0",
        "outputId": "35dea043-53cf-402b-86a7-f427d16f2d74"
      },
      "execution_count": 15,
      "outputs": [
        {
          "output_type": "error",
          "ename": "TypeError",
          "evalue": "ignored",
          "traceback": [
            "\u001b[0;31m---------------------------------------------------------------------------\u001b[0m",
            "\u001b[0;31mTypeError\u001b[0m                                 Traceback (most recent call last)",
            "\u001b[0;32m<ipython-input-15-486853c5b4de>\u001b[0m in \u001b[0;36m<module>\u001b[0;34m()\u001b[0m\n\u001b[0;32m----> 1\u001b[0;31m \u001b[0;36m1.5\u001b[0m \u001b[0;34m&\u001b[0m \u001b[0;36m1.5\u001b[0m\u001b[0;34m\u001b[0m\u001b[0;34m\u001b[0m\u001b[0m\n\u001b[0m",
            "\u001b[0;31mTypeError\u001b[0m: unsupported operand type(s) for &: 'float' and 'float'"
          ]
        }
      ]
    },
    {
      "cell_type": "code",
      "source": [
        "bin(5)"
      ],
      "metadata": {
        "colab": {
          "base_uri": "https://localhost:8080/",
          "height": 35
        },
        "id": "eXKnfZBmKJ8M",
        "outputId": "9d64821f-1e8b-4863-bc45-d003911631c1"
      },
      "execution_count": 13,
      "outputs": [
        {
          "output_type": "execute_result",
          "data": {
            "text/plain": [
              "'0b101'"
            ],
            "application/vnd.google.colaboratory.intrinsic+json": {
              "type": "string"
            }
          },
          "metadata": {},
          "execution_count": 13
        }
      ]
    },
    {
      "cell_type": "markdown",
      "source": [
        "## Bitwise Operators\n",
        "- & (and)\n",
        "- | (or)\n",
        "- ^ (xor)\n",
        "- `<<` (lshift)\n",
        "- `>>` (rshift)\n",
        "- ~ (not)"
      ],
      "metadata": {
        "id": "90IS6h7MMKc3"
      }
    },
    {
      "cell_type": "code",
      "source": [
        "5 | 6"
      ],
      "metadata": {
        "colab": {
          "base_uri": "https://localhost:8080/"
        },
        "id": "yeZfwhMGKLMu",
        "outputId": "600e2dcd-d1e4-4516-aa55-00369b556230"
      },
      "execution_count": 16,
      "outputs": [
        {
          "output_type": "execute_result",
          "data": {
            "text/plain": [
              "7"
            ]
          },
          "metadata": {},
          "execution_count": 16
        }
      ]
    },
    {
      "cell_type": "code",
      "source": [
        "# HW: Write binary representation of each step\n",
        "a = 5\n",
        "b = 9\n",
        "\n",
        "a = a^b\n",
        "b = a^b\n",
        "a = a^b\n",
        "\n",
        "print(a, b)"
      ],
      "metadata": {
        "colab": {
          "base_uri": "https://localhost:8080/"
        },
        "id": "bMfl8Rx8MVne",
        "outputId": "fbbffcdb-8e9c-4ae2-c53b-7bec8cf9997e"
      },
      "execution_count": 17,
      "outputs": [
        {
          "output_type": "stream",
          "name": "stdout",
          "text": [
            "9 5\n"
          ]
        }
      ]
    },
    {
      "cell_type": "code",
      "source": [
        "5 ^ 6"
      ],
      "metadata": {
        "colab": {
          "base_uri": "https://localhost:8080/"
        },
        "id": "fvYAOwUsNG2J",
        "outputId": "7881a910-086e-4771-8486-2eee19c55aae"
      },
      "execution_count": 18,
      "outputs": [
        {
          "output_type": "execute_result",
          "data": {
            "text/plain": [
              "3"
            ]
          },
          "metadata": {},
          "execution_count": 18
        }
      ]
    },
    {
      "cell_type": "code",
      "source": [
        "bin(1 << 3)"
      ],
      "metadata": {
        "colab": {
          "base_uri": "https://localhost:8080/",
          "height": 35
        },
        "id": "J-ayqUgGNU7W",
        "outputId": "b40b44c7-eddf-45b9-90ee-9070297a5562"
      },
      "execution_count": 19,
      "outputs": [
        {
          "output_type": "execute_result",
          "data": {
            "text/plain": [
              "'0b1000'"
            ],
            "application/vnd.google.colaboratory.intrinsic+json": {
              "type": "string"
            }
          },
          "metadata": {},
          "execution_count": 19
        }
      ]
    },
    {
      "cell_type": "code",
      "source": [
        "bin(5)"
      ],
      "metadata": {
        "colab": {
          "base_uri": "https://localhost:8080/",
          "height": 35
        },
        "id": "uzcPeokLRHg8",
        "outputId": "c3eaa312-bc31-44f5-b642-daee5273e1ba"
      },
      "execution_count": 20,
      "outputs": [
        {
          "output_type": "execute_result",
          "data": {
            "text/plain": [
              "'0b101'"
            ],
            "application/vnd.google.colaboratory.intrinsic+json": {
              "type": "string"
            }
          },
          "metadata": {},
          "execution_count": 20
        }
      ]
    },
    {
      "cell_type": "code",
      "source": [
        "bin(5 << 3)"
      ],
      "metadata": {
        "colab": {
          "base_uri": "https://localhost:8080/",
          "height": 35
        },
        "id": "NnGC2bLARNyR",
        "outputId": "699c5b9e-d6b5-4a14-fee8-c2f993084aa3"
      },
      "execution_count": 21,
      "outputs": [
        {
          "output_type": "execute_result",
          "data": {
            "text/plain": [
              "'0b101000'"
            ],
            "application/vnd.google.colaboratory.intrinsic+json": {
              "type": "string"
            }
          },
          "metadata": {},
          "execution_count": 21
        }
      ]
    },
    {
      "cell_type": "code",
      "source": [
        "5 << 3"
      ],
      "metadata": {
        "colab": {
          "base_uri": "https://localhost:8080/"
        },
        "id": "qIjYkVGKRTTw",
        "outputId": "7d94a715-f17f-432e-82c1-abe209e46af8"
      },
      "execution_count": 22,
      "outputs": [
        {
          "output_type": "execute_result",
          "data": {
            "text/plain": [
              "40"
            ]
          },
          "metadata": {},
          "execution_count": 22
        }
      ]
    },
    {
      "cell_type": "code",
      "source": [
        "5 >> 3"
      ],
      "metadata": {
        "colab": {
          "base_uri": "https://localhost:8080/"
        },
        "id": "m_DvCOMdRUu0",
        "outputId": "5ed4deb7-fa12-4cf3-dfc6-08777f2a425c"
      },
      "execution_count": 26,
      "outputs": [
        {
          "output_type": "execute_result",
          "data": {
            "text/plain": [
              "0"
            ]
          },
          "metadata": {},
          "execution_count": 26
        }
      ]
    },
    {
      "cell_type": "code",
      "source": [
        ""
      ],
      "metadata": {
        "id": "m187ZisjRbls"
      },
      "execution_count": null,
      "outputs": []
    },
    {
      "cell_type": "markdown",
      "source": [
        "### Bit Masking"
      ],
      "metadata": {
        "id": "u0q9p23jYHm_"
      }
    },
    {
      "cell_type": "code",
      "source": [
        "def check_mask(mask, number):\n",
        "  return (mask & number) == mask"
      ],
      "metadata": {
        "id": "jfNMErYgYIea"
      },
      "execution_count": 27,
      "outputs": []
    },
    {
      "cell_type": "code",
      "source": [
        "check_mask(0b1100, 0b1011)"
      ],
      "metadata": {
        "colab": {
          "base_uri": "https://localhost:8080/"
        },
        "id": "Tka1EaHSYOVS",
        "outputId": "71613746-31e4-46e9-8019-fb0c8e1056d7"
      },
      "execution_count": 28,
      "outputs": [
        {
          "output_type": "execute_result",
          "data": {
            "text/plain": [
              "False"
            ]
          },
          "metadata": {},
          "execution_count": 28
        }
      ]
    },
    {
      "cell_type": "code",
      "source": [
        "check_mask(0b1100, 0b1111)"
      ],
      "metadata": {
        "colab": {
          "base_uri": "https://localhost:8080/"
        },
        "id": "KAUf4HX1YZg0",
        "outputId": "8fb874fc-25ee-43cd-ceb9-a90c4c3c9b7d"
      },
      "execution_count": 29,
      "outputs": [
        {
          "output_type": "execute_result",
          "data": {
            "text/plain": [
              "True"
            ]
          },
          "metadata": {},
          "execution_count": 29
        }
      ]
    },
    {
      "cell_type": "code",
      "source": [
        "def set_mask(mask, number):\n",
        "  return mask | number"
      ],
      "metadata": {
        "id": "D4OxL0eqYiQ9"
      },
      "execution_count": 30,
      "outputs": []
    },
    {
      "cell_type": "code",
      "source": [
        "bin(set_mask(0b1100, 0b0010))"
      ],
      "metadata": {
        "colab": {
          "base_uri": "https://localhost:8080/",
          "height": 35
        },
        "id": "9AstCXDAY6u7",
        "outputId": "3ed7971d-050b-4d7e-c15b-6aba134d009c"
      },
      "execution_count": 31,
      "outputs": [
        {
          "output_type": "execute_result",
          "data": {
            "text/plain": [
              "'0b1110'"
            ],
            "application/vnd.google.colaboratory.intrinsic+json": {
              "type": "string"
            }
          },
          "metadata": {},
          "execution_count": 31
        }
      ]
    },
    {
      "cell_type": "markdown",
      "source": [
        "### Set Bit"
      ],
      "metadata": {
        "id": "7viACaY9ZIoe"
      }
    },
    {
      "cell_type": "code",
      "source": [
        "def set_bit(number, i):\n",
        "  mask = 1 << i\n",
        "\n",
        "  return number | mask"
      ],
      "metadata": {
        "id": "O4aV3xbOZDDt"
      },
      "execution_count": 32,
      "outputs": []
    },
    {
      "cell_type": "code",
      "source": [
        "bin(set_bit(0b10011000111, 3))"
      ],
      "metadata": {
        "colab": {
          "base_uri": "https://localhost:8080/",
          "height": 35
        },
        "id": "55_r5CyfZr5x",
        "outputId": "59c5c15f-dd3e-4394-8e70-21f3b94cd956"
      },
      "execution_count": 35,
      "outputs": [
        {
          "output_type": "execute_result",
          "data": {
            "text/plain": [
              "'0b10011001111'"
            ],
            "application/vnd.google.colaboratory.intrinsic+json": {
              "type": "string"
            }
          },
          "metadata": {},
          "execution_count": 35
        }
      ]
    },
    {
      "cell_type": "code",
      "source": [
        "bin(1 << 3)"
      ],
      "metadata": {
        "colab": {
          "base_uri": "https://localhost:8080/",
          "height": 35
        },
        "id": "3z5Dty3gZuzu",
        "outputId": "8a8890c0-6011-4420-903f-1f1ef138c4ac"
      },
      "execution_count": 36,
      "outputs": [
        {
          "output_type": "execute_result",
          "data": {
            "text/plain": [
              "'0b1000'"
            ],
            "application/vnd.google.colaboratory.intrinsic+json": {
              "type": "string"
            }
          },
          "metadata": {},
          "execution_count": 36
        }
      ]
    },
    {
      "cell_type": "code",
      "source": [
        ""
      ],
      "metadata": {
        "id": "mD5VDKS3Z4-p"
      },
      "execution_count": null,
      "outputs": []
    },
    {
      "cell_type": "markdown",
      "source": [
        "### Test Bit"
      ],
      "metadata": {
        "id": "YXh25Cc2aF1Z"
      }
    },
    {
      "cell_type": "code",
      "source": [
        "def test_bit(number, i):\n",
        "  mask = 1 << i\n",
        "  \n",
        "  return bool(number & mask)"
      ],
      "metadata": {
        "id": "PmBDTiznaGsF"
      },
      "execution_count": 38,
      "outputs": []
    },
    {
      "cell_type": "code",
      "source": [
        "test_bit(0b10011000111, 3)"
      ],
      "metadata": {
        "colab": {
          "base_uri": "https://localhost:8080/"
        },
        "id": "YbmGHraOadr3",
        "outputId": "66f3dbd8-1f39-46a2-fac3-dae274595d38"
      },
      "execution_count": 39,
      "outputs": [
        {
          "output_type": "execute_result",
          "data": {
            "text/plain": [
              "False"
            ]
          },
          "metadata": {},
          "execution_count": 39
        }
      ]
    },
    {
      "cell_type": "code",
      "source": [
        "test_bit(0b10011000111, 2)"
      ],
      "metadata": {
        "colab": {
          "base_uri": "https://localhost:8080/"
        },
        "id": "7Kf0HzyKazoo",
        "outputId": "7f5ff1ac-4a40-45f4-dfd5-872e80ed4ebe"
      },
      "execution_count": 40,
      "outputs": [
        {
          "output_type": "execute_result",
          "data": {
            "text/plain": [
              "True"
            ]
          },
          "metadata": {},
          "execution_count": 40
        }
      ]
    },
    {
      "cell_type": "code",
      "source": [
        ""
      ],
      "metadata": {
        "id": "PpxuUbsTa2wq"
      },
      "execution_count": null,
      "outputs": []
    },
    {
      "cell_type": "markdown",
      "source": [
        "### Clear Bit"
      ],
      "metadata": {
        "id": "DK6WoKUua-TV"
      }
    },
    {
      "cell_type": "code",
      "source": [
        "def clear_bit(number, i):\n",
        "  mask = ~(1 << i)\n",
        "\n",
        "  return number & mask"
      ],
      "metadata": {
        "id": "VTzRWvL8a_64"
      },
      "execution_count": 41,
      "outputs": []
    },
    {
      "cell_type": "code",
      "source": [
        "bin(clear_bit(0b10011, 1))"
      ],
      "metadata": {
        "colab": {
          "base_uri": "https://localhost:8080/",
          "height": 35
        },
        "id": "rRvmFL6Wbl-N",
        "outputId": "e7cd5bb7-4135-46ea-d003-c6e48f4aa30e"
      },
      "execution_count": 43,
      "outputs": [
        {
          "output_type": "execute_result",
          "data": {
            "text/plain": [
              "'0b10001'"
            ],
            "application/vnd.google.colaboratory.intrinsic+json": {
              "type": "string"
            }
          },
          "metadata": {},
          "execution_count": 43
        }
      ]
    },
    {
      "cell_type": "code",
      "source": [
        ""
      ],
      "metadata": {
        "id": "6KouXCiAbrpZ"
      },
      "execution_count": null,
      "outputs": []
    },
    {
      "cell_type": "markdown",
      "source": [
        "### Toggle Bit"
      ],
      "metadata": {
        "id": "1wB0fvCPb82P"
      }
    },
    {
      "cell_type": "code",
      "source": [
        "def toggle_bit(number, i):\n",
        "  mask = 1 << i\n",
        "\n",
        "  return number ^ mask"
      ],
      "metadata": {
        "id": "mCQj0E-Vb9vt"
      },
      "execution_count": 44,
      "outputs": []
    },
    {
      "cell_type": "code",
      "source": [
        "bin(toggle_bit(0b10011, 2))"
      ],
      "metadata": {
        "colab": {
          "base_uri": "https://localhost:8080/",
          "height": 35
        },
        "id": "BTkgqglbc3SQ",
        "outputId": "5c86f8e4-71d7-4639-f4ae-ebb404e55690"
      },
      "execution_count": 46,
      "outputs": [
        {
          "output_type": "execute_result",
          "data": {
            "text/plain": [
              "'0b10111'"
            ],
            "application/vnd.google.colaboratory.intrinsic+json": {
              "type": "string"
            }
          },
          "metadata": {},
          "execution_count": 46
        }
      ]
    },
    {
      "cell_type": "code",
      "source": [
        "bin(toggle_bit(0b10011, 1))"
      ],
      "metadata": {
        "colab": {
          "base_uri": "https://localhost:8080/",
          "height": 35
        },
        "id": "srQbFhvdc6PT",
        "outputId": "832c5542-22b6-4e14-85dc-2c843f87d665"
      },
      "execution_count": 47,
      "outputs": [
        {
          "output_type": "execute_result",
          "data": {
            "text/plain": [
              "'0b10001'"
            ],
            "application/vnd.google.colaboratory.intrinsic+json": {
              "type": "string"
            }
          },
          "metadata": {},
          "execution_count": 47
        }
      ]
    },
    {
      "cell_type": "code",
      "source": [
        "0b111000"
      ],
      "metadata": {
        "colab": {
          "base_uri": "https://localhost:8080/"
        },
        "id": "NYBtzKSsc9OA",
        "outputId": "53c0777b-769b-416a-927e-4de8fd0ecd9a"
      },
      "execution_count": 48,
      "outputs": [
        {
          "output_type": "execute_result",
          "data": {
            "text/plain": [
              "56"
            ]
          },
          "metadata": {},
          "execution_count": 48
        }
      ]
    },
    {
      "cell_type": "code",
      "source": [
        "file = 0b000"
      ],
      "metadata": {
        "id": "_Y3EMjkFdwHW"
      },
      "execution_count": 49,
      "outputs": []
    },
    {
      "cell_type": "code",
      "source": [
        "# set read permission\n",
        "file = set_bit(file, 2)"
      ],
      "metadata": {
        "id": "i6DARXdhfvSo"
      },
      "execution_count": 50,
      "outputs": []
    },
    {
      "cell_type": "code",
      "source": [
        "# set execute permission\n",
        "file = set_bit(file, 0)"
      ],
      "metadata": {
        "id": "zAfuKkRaf5Jh"
      },
      "execution_count": 51,
      "outputs": []
    },
    {
      "cell_type": "code",
      "source": [
        "# check writable\n",
        "test_bit(file, 1)"
      ],
      "metadata": {
        "colab": {
          "base_uri": "https://localhost:8080/"
        },
        "id": "khWonwjVf8am",
        "outputId": "39cd8db6-5e10-469a-d5c6-bba67d158d51"
      },
      "execution_count": 52,
      "outputs": [
        {
          "output_type": "execute_result",
          "data": {
            "text/plain": [
              "False"
            ]
          },
          "metadata": {},
          "execution_count": 52
        }
      ]
    },
    {
      "cell_type": "code",
      "source": [
        "# check readable\n",
        "test_bit(file, 2)"
      ],
      "metadata": {
        "colab": {
          "base_uri": "https://localhost:8080/"
        },
        "id": "wqJwKQywgDKS",
        "outputId": "c43fd878-cdeb-4c9e-dc51-32cef68034a8"
      },
      "execution_count": 53,
      "outputs": [
        {
          "output_type": "execute_result",
          "data": {
            "text/plain": [
              "True"
            ]
          },
          "metadata": {},
          "execution_count": 53
        }
      ]
    },
    {
      "cell_type": "code",
      "source": [
        ""
      ],
      "metadata": {
        "id": "0rVQLEUFgIUp"
      },
      "execution_count": null,
      "outputs": []
    }
  ]
}