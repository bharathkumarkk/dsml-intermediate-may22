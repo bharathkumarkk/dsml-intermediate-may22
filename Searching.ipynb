{
  "nbformat": 4,
  "nbformat_minor": 0,
  "metadata": {
    "colab": {
      "name": "Searching",
      "provenance": [],
      "authorship_tag": "ABX9TyOKVYJxOPB21sJLZHKaPL1Q",
      "include_colab_link": true
    },
    "kernelspec": {
      "name": "python3",
      "display_name": "Python 3"
    },
    "language_info": {
      "name": "python"
    }
  },
  "cells": [
    {
      "cell_type": "markdown",
      "metadata": {
        "id": "view-in-github",
        "colab_type": "text"
      },
      "source": [
        "<a href=\"https://colab.research.google.com/github/scaleracademy/dsml-intermediate-may22/blob/main/Searching.ipynb\" target=\"_parent\"><img src=\"https://colab.research.google.com/assets/colab-badge.svg\" alt=\"Open In Colab\"/></a>"
      ]
    },
    {
      "cell_type": "markdown",
      "source": [
        "### Linear Search"
      ],
      "metadata": {
        "id": "CNXTaV-HNzeC"
      }
    },
    {
      "cell_type": "code",
      "execution_count": 1,
      "metadata": {
        "id": "ZBAmX-bNFOaX"
      },
      "outputs": [],
      "source": [
        "def linear_search(arr, el):\n",
        "  for i in range(len(arr)):\n",
        "    if el == arr[i]:\n",
        "      return i"
      ]
    },
    {
      "cell_type": "code",
      "source": [
        "linear_search([5, 1, 4, 3, 2, 6], 3)"
      ],
      "metadata": {
        "colab": {
          "base_uri": "https://localhost:8080/"
        },
        "id": "EvurJEE8OD06",
        "outputId": "7423eb06-e656-4590-c592-6695b797cd8c"
      },
      "execution_count": 2,
      "outputs": [
        {
          "output_type": "execute_result",
          "data": {
            "text/plain": [
              "3"
            ]
          },
          "metadata": {},
          "execution_count": 2
        }
      ]
    },
    {
      "cell_type": "code",
      "source": [
        ""
      ],
      "metadata": {
        "id": "w0ssF1OkOHxv"
      },
      "execution_count": null,
      "outputs": []
    },
    {
      "cell_type": "markdown",
      "source": [
        "### Binary Search"
      ],
      "metadata": {
        "id": "FI5Es82OOiQy"
      }
    },
    {
      "cell_type": "code",
      "source": [
        "# arr will always be sorted\n",
        "def binary_search(arr, el):\n",
        "  start = 0\n",
        "  end = len(arr)\n",
        "\n",
        "  while start <= end:\n",
        "    print(arr[start:end])\n",
        "    mid = (start + end) // 2\n",
        "\n",
        "    if arr[mid] == el:\n",
        "      return mid\n",
        "\n",
        "    if arr[mid] > el:\n",
        "      end = mid\n",
        "    elif arr[mid] < el:\n",
        "      start = mid + 1\n",
        "  \n",
        "  # If element was not found I'm gonna return -1\n",
        "  return -1\n"
      ],
      "metadata": {
        "id": "0XBl0BxnOkl2"
      },
      "execution_count": 5,
      "outputs": []
    },
    {
      "cell_type": "code",
      "source": [
        "binary_search([1, 2, 3, 4, 5, 6, 7, 8, 9], 6)"
      ],
      "metadata": {
        "colab": {
          "base_uri": "https://localhost:8080/"
        },
        "id": "_bhdtQVoVL4w",
        "outputId": "a780421a-3417-4160-f28e-79d97a2f18d5"
      },
      "execution_count": 6,
      "outputs": [
        {
          "output_type": "stream",
          "name": "stdout",
          "text": [
            "[1, 2, 3, 4, 5, 6, 7, 8, 9]\n",
            "[6, 7, 8, 9]\n",
            "[6, 7]\n",
            "[6]\n"
          ]
        },
        {
          "output_type": "execute_result",
          "data": {
            "text/plain": [
              "5"
            ]
          },
          "metadata": {},
          "execution_count": 6
        }
      ]
    },
    {
      "cell_type": "code",
      "source": [
        "binary_search([9,8,7,6,5,4,3,2,1], 6)"
      ],
      "metadata": {
        "id": "SVaS165fVOkb"
      },
      "execution_count": null,
      "outputs": []
    }
  ]
}