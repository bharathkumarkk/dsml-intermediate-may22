{
  "nbformat": 4,
  "nbformat_minor": 0,
  "metadata": {
    "colab": {
      "name": "Sorting 1",
      "provenance": [],
      "authorship_tag": "ABX9TyO/mVSCgqBJV1F6CRJp4Gyf",
      "include_colab_link": true
    },
    "kernelspec": {
      "name": "python3",
      "display_name": "Python 3"
    },
    "language_info": {
      "name": "python"
    }
  },
  "cells": [
    {
      "cell_type": "markdown",
      "metadata": {
        "id": "view-in-github",
        "colab_type": "text"
      },
      "source": [
        "<a href=\"https://colab.research.google.com/github/scaleracademy/dsml-intermediate-may22/blob/main/Sorting_1.ipynb\" target=\"_parent\"><img src=\"https://colab.research.google.com/assets/colab-badge.svg\" alt=\"Open In Colab\"/></a>"
      ]
    },
    {
      "cell_type": "code",
      "execution_count": 3,
      "metadata": {
        "colab": {
          "base_uri": "https://localhost:8080/"
        },
        "id": "WWIUdtCuI-A-",
        "outputId": "33589878-14c0-4064-93c3-3f96ccb9b7c4"
      },
      "outputs": [
        {
          "output_type": "stream",
          "name": "stdout",
          "text": [
            "[2, [2, 3, 2, 3], 8, 10]\n"
          ]
        }
      ],
      "source": [
        "a=[1,[2,3],4,5]\n",
        "result = lambda x: list(map(lambda y: 2*y, x)) if isinstance(x,list) else x\n",
        "print(result(a))"
      ]
    },
    {
      "cell_type": "code",
      "source": [
        "[1, 2] * 2"
      ],
      "metadata": {
        "colab": {
          "base_uri": "https://localhost:8080/"
        },
        "id": "2H4NRzgvMUt0",
        "outputId": "184ba2f2-ad8c-4acf-fa7d-c74c7aa0ef5d"
      },
      "execution_count": 4,
      "outputs": [
        {
          "output_type": "execute_result",
          "data": {
            "text/plain": [
              "[1, 2, 1, 2]"
            ]
          },
          "metadata": {},
          "execution_count": 4
        }
      ]
    },
    {
      "cell_type": "code",
      "source": [
        "list(map(lambda x: list(range(5)), range(5)))"
      ],
      "metadata": {
        "colab": {
          "base_uri": "https://localhost:8080/"
        },
        "id": "oIBcKJ2rM1Qt",
        "outputId": "e02c2fe1-d6f0-48f6-939a-012770217951"
      },
      "execution_count": 6,
      "outputs": [
        {
          "output_type": "execute_result",
          "data": {
            "text/plain": [
              "[[0, 1, 2, 3, 4],\n",
              " [0, 1, 2, 3, 4],\n",
              " [0, 1, 2, 3, 4],\n",
              " [0, 1, 2, 3, 4],\n",
              " [0, 1, 2, 3, 4]]"
            ]
          },
          "metadata": {},
          "execution_count": 6
        }
      ]
    },
    {
      "cell_type": "code",
      "source": [
        "a = 5\n",
        "name = \"scaler\""
      ],
      "metadata": {
        "id": "1zcVrEmqNKJr"
      },
      "execution_count": 7,
      "outputs": []
    },
    {
      "cell_type": "code",
      "source": [
        "n = 50\n",
        "for i in range(n):\n",
        "  print(i**2)"
      ],
      "metadata": {
        "id": "_CBXsiOvPAD8"
      },
      "execution_count": null,
      "outputs": []
    },
    {
      "cell_type": "code",
      "source": [
        "n = 100\n",
        "for i in range(n):\n",
        "  for j in range(n):\n",
        "    print(i + j)"
      ],
      "metadata": {
        "id": "h_TQaiinS2ce"
      },
      "execution_count": null,
      "outputs": []
    },
    {
      "cell_type": "code",
      "source": [
        "a = 10"
      ],
      "metadata": {
        "id": "UuP_Ng0YbF_W"
      },
      "execution_count": 8,
      "outputs": []
    },
    {
      "cell_type": "code",
      "source": [
        "n = 10\n",
        "a = [i for i in range(n)]"
      ],
      "metadata": {
        "id": "Trp2_ph9bHAu"
      },
      "execution_count": 11,
      "outputs": []
    },
    {
      "cell_type": "code",
      "source": [
        "a = [[i*j for j in range(n)] for i in range(n)]"
      ],
      "metadata": {
        "id": "8D9uX7BRbIba"
      },
      "execution_count": null,
      "outputs": []
    },
    {
      "cell_type": "markdown",
      "source": [
        "## Bubble Sort"
      ],
      "metadata": {
        "id": "91CzPoMCgpmx"
      }
    },
    {
      "cell_type": "code",
      "source": [
        "def bubble_sort(arr):\n",
        "  n = len(arr)\n",
        "\n",
        "  # this operation repeats putting largest element at the end\n",
        "  for i in range(n-1):\n",
        "    # this operations puts the largest element at the end\n",
        "    for j in range(n-i-1):\n",
        "      if arr[j] > arr[j+1]:\n",
        "        arr[j], arr[j+1] = arr[j+1], arr[j]\n",
        "  \n",
        "  return arr"
      ],
      "metadata": {
        "id": "Orq5akYVgquU"
      },
      "execution_count": 17,
      "outputs": []
    },
    {
      "cell_type": "code",
      "source": [
        "bubble_sort([3, 2, 1, 5, 4])"
      ],
      "metadata": {
        "colab": {
          "base_uri": "https://localhost:8080/"
        },
        "id": "UBK_ZYZ8jasZ",
        "outputId": "70b2cccf-a1cf-4f71-e2ce-4ad96641f6d2"
      },
      "execution_count": 18,
      "outputs": [
        {
          "output_type": "execute_result",
          "data": {
            "text/plain": [
              "[1, 2, 3, 4, 5]"
            ]
          },
          "metadata": {},
          "execution_count": 18
        }
      ]
    },
    {
      "cell_type": "code",
      "source": [
        ""
      ],
      "metadata": {
        "id": "65IDgNLIjeG2"
      },
      "execution_count": null,
      "outputs": []
    }
  ]
}