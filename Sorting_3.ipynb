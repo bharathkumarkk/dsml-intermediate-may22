{
  "nbformat": 4,
  "nbformat_minor": 0,
  "metadata": {
    "colab": {
      "name": "Sorting 3",
      "provenance": [],
      "authorship_tag": "ABX9TyMMsOsr15a7WrxsDWmb7qoE",
      "include_colab_link": true
    },
    "kernelspec": {
      "name": "python3",
      "display_name": "Python 3"
    },
    "language_info": {
      "name": "python"
    }
  },
  "cells": [
    {
      "cell_type": "markdown",
      "metadata": {
        "id": "view-in-github",
        "colab_type": "text"
      },
      "source": [
        "<a href=\"https://colab.research.google.com/github/scaleracademy/dsml-intermediate-may22/blob/main/Sorting_3.ipynb\" target=\"_parent\"><img src=\"https://colab.research.google.com/assets/colab-badge.svg\" alt=\"Open In Colab\"/></a>"
      ]
    },
    {
      "cell_type": "code",
      "execution_count": null,
      "metadata": {
        "id": "oqcCZ9b3LYhp"
      },
      "outputs": [],
      "source": [
        "n = 5\n",
        "for i in range(1, n+1): # n\n",
        "  for j in range(1, n+1): # n\n",
        "    for k in range(n//2, n+1, n//2): # 1\n",
        "      c += 1\n",
        "\n",
        "# O(n**2)"
      ]
    },
    {
      "cell_type": "code",
      "source": [
        "def selection_sort(arr):\n",
        "  n = len(arr)\n",
        "  for i in range(n-1):\n",
        "    # find smallest element from i -> n\n",
        "\n",
        "    min_indx = i\n",
        "\n",
        "    for j in range(i+1, n):\n",
        "      if arr[j] < arr[min_indx]:\n",
        "        min_indx = j\n",
        "    \n",
        "    arr[i], arr[min_indx] = arr[min_indx], arr[i]\n",
        "\n",
        "  return arr"
      ],
      "metadata": {
        "id": "5GPHFIiRZHmq"
      },
      "execution_count": 1,
      "outputs": []
    },
    {
      "cell_type": "code",
      "source": [
        "selection_sort([5, 4, 1, 2, 3, 5, 1])"
      ],
      "metadata": {
        "colab": {
          "base_uri": "https://localhost:8080/"
        },
        "id": "pDsqg2Rwa49k",
        "outputId": "9dfdedf3-ec69-4024-d05d-10f768645902"
      },
      "execution_count": 11,
      "outputs": [
        {
          "output_type": "execute_result",
          "data": {
            "text/plain": [
              "[1, 1, 2, 3, 4, 5, 5]"
            ]
          },
          "metadata": {},
          "execution_count": 11
        }
      ]
    },
    {
      "cell_type": "code",
      "source": [
        "a = [5,4,3,2,1]\n",
        "n = 5\n",
        "for i in range(n-1):\n",
        "  min = a[i] \n",
        "  for j in range(i+1, n):\n",
        "    if min > a[j]:\n",
        "      min = a[j]\n",
        "  \n",
        "  idx = a.index(min)\n",
        "  a[i], a[idx] = a[idx], a[i] \n",
        "\n",
        "print(a)\n",
        "\n"
      ],
      "metadata": {
        "colab": {
          "base_uri": "https://localhost:8080/"
        },
        "id": "sL2JsH-fa66y",
        "outputId": "e3325050-b98e-4740-b095-b7679f7a2dbe"
      },
      "execution_count": 8,
      "outputs": [
        {
          "output_type": "stream",
          "name": "stdout",
          "text": [
            "[1, 2, 3, 4, 5]\n"
          ]
        }
      ]
    },
    {
      "cell_type": "code",
      "source": [
        "a.index(1)"
      ],
      "metadata": {
        "colab": {
          "base_uri": "https://localhost:8080/"
        },
        "id": "ASDyYhhmcJ6t",
        "outputId": "48cb94a3-9425-48a3-8e8b-9bb0b6ade9e0"
      },
      "execution_count": 5,
      "outputs": [
        {
          "output_type": "execute_result",
          "data": {
            "text/plain": [
              "4"
            ]
          },
          "metadata": {},
          "execution_count": 5
        }
      ]
    },
    {
      "cell_type": "code",
      "source": [
        "def foo(n):\n",
        "  if n % 2 == 0:\n",
        "    for i in range(n):\n",
        "      print(i**2)\n",
        "  else:\n",
        "    for i in range(n):\n",
        "      for j in range(n):\n",
        "        print(i*j)"
      ],
      "metadata": {
        "id": "XH5Ezoh3cX14"
      },
      "execution_count": null,
      "outputs": []
    },
    {
      "cell_type": "code",
      "source": [
        "n = 10\n",
        "for i in range(1, n): # n\n",
        "  for j in range(1, n//4): # n/4\n",
        "    for k in range(1, n):\n",
        "      print(\"something\")\n",
        "      break"
      ],
      "metadata": {
        "colab": {
          "base_uri": "https://localhost:8080/"
        },
        "id": "DAjC6MUxnP2r",
        "outputId": "77a7d948-7b47-41b5-e3b8-2518c19ab0a5"
      },
      "execution_count": 15,
      "outputs": [
        {
          "output_type": "stream",
          "name": "stdout",
          "text": [
            "something\n",
            "something\n",
            "something\n",
            "something\n",
            "something\n",
            "something\n",
            "something\n",
            "something\n",
            "something\n"
          ]
        }
      ]
    },
    {
      "cell_type": "code",
      "source": [
        "B = [5, 1, 4, 3, 2]\n",
        "for i in range(1,len(B)):\n",
        "  while(i>0)and B[i]<B[i-1]:\n",
        "    B[i],B[i-1] = B[i-1],B[i]\n",
        "    i-=1"
      ],
      "metadata": {
        "id": "lg5kFQM2nYDj"
      },
      "execution_count": 18,
      "outputs": []
    },
    {
      "cell_type": "code",
      "source": [
        "B"
      ],
      "metadata": {
        "colab": {
          "base_uri": "https://localhost:8080/"
        },
        "id": "khAwJLuyookd",
        "outputId": "2ba5e053-f5d2-4203-9bc7-692e5e7009fd"
      },
      "execution_count": 19,
      "outputs": [
        {
          "output_type": "execute_result",
          "data": {
            "text/plain": [
              "[1, 2, 3, 4, 5]"
            ]
          },
          "metadata": {},
          "execution_count": 19
        }
      ]
    },
    {
      "cell_type": "code",
      "source": [
        "arr = [5, 1, 3, 2, 4]\n",
        "n=len(arr)\n",
        "for i in range(n-1):\n",
        "  min_ele = min(arr[i:])\n",
        "  min_index = arr.index(min_ele,i)\n",
        "  arr[i],arr[min_index]= arr[min_index],arr[i] "
      ],
      "metadata": {
        "id": "WNWKPa7xopJP"
      },
      "execution_count": null,
      "outputs": []
    }
  ]
}