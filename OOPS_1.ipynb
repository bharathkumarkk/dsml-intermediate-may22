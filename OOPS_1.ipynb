{
  "nbformat": 4,
  "nbformat_minor": 0,
  "metadata": {
    "colab": {
      "name": "OOPS 1",
      "provenance": [],
      "authorship_tag": "ABX9TyPFkh6DLHipqbcSTtP6MQQc",
      "include_colab_link": true
    },
    "kernelspec": {
      "name": "python3",
      "display_name": "Python 3"
    },
    "language_info": {
      "name": "python"
    }
  },
  "cells": [
    {
      "cell_type": "markdown",
      "metadata": {
        "id": "view-in-github",
        "colab_type": "text"
      },
      "source": [
        "<a href=\"https://colab.research.google.com/github/scaleracademy/dsml-intermediate-may22/blob/main/OOPS_1.ipynb\" target=\"_parent\"><img src=\"https://colab.research.google.com/assets/colab-badge.svg\" alt=\"Open In Colab\"/></a>"
      ]
    },
    {
      "cell_type": "markdown",
      "source": [
        "Try to visualise the logic here"
      ],
      "metadata": {
        "id": "Kei1ucLOZ8aE"
      }
    },
    {
      "cell_type": "code",
      "execution_count": 2,
      "metadata": {
        "colab": {
          "base_uri": "https://localhost:8080/"
        },
        "id": "6ZLgD7szUPxK",
        "outputId": "311afe57-3c64-4096-b2fa-dcf17e49567d"
      },
      "outputs": [
        {
          "output_type": "execute_result",
          "data": {
            "text/plain": [
              "[[7, 7, 7, 7, 7, 7, 7],\n",
              " [7, 6, 6, 6, 6, 6, 7],\n",
              " [7, 6, 5, 5, 5, 6, 7],\n",
              " [7, 6, 5, 4, 5, 6, 7],\n",
              " [7, 6, 5, 5, 5, 6, 7],\n",
              " [7, 6, 6, 6, 6, 6, 7],\n",
              " [7, 7, 7, 7, 7, 7, 7]]"
            ]
          },
          "metadata": {},
          "execution_count": 2
        }
      ],
      "source": [
        "n = 7\n",
        "[ [ max(i+1, j+1, n-i, n-j) for j in range(n)] for i in range(n) ]"
      ]
    },
    {
      "cell_type": "code",
      "source": [
        "# math.py\n",
        "\n",
        "def sum(a, b):\n",
        "  print(\"a + b = \", a+b)"
      ],
      "metadata": {
        "id": "jgYrC4lRaJ2T"
      },
      "execution_count": 4,
      "outputs": []
    },
    {
      "cell_type": "code",
      "source": [
        "\n",
        "\n",
        "class Math:\n",
        "  def foo(a, b):\n",
        "    print(\"a + b = \", a+b)"
      ],
      "metadata": {
        "id": "JlQYgUEEcIN3"
      },
      "execution_count": 6,
      "outputs": []
    },
    {
      "cell_type": "code",
      "source": [
        "def foo(a, b):\n",
        "  return a+b"
      ],
      "metadata": {
        "id": "vZ4JOkQZcLKP"
      },
      "execution_count": null,
      "outputs": []
    },
    {
      "cell_type": "code",
      "source": [
        "Math.foo(1, 2)"
      ],
      "metadata": {
        "colab": {
          "base_uri": "https://localhost:8080/"
        },
        "id": "6n9JuF5BdDCS",
        "outputId": "bda57082-15a7-45d8-b543-70de4bf0bf99"
      },
      "execution_count": 7,
      "outputs": [
        {
          "output_type": "stream",
          "name": "stdout",
          "text": [
            "a + b =  3\n"
          ]
        }
      ]
    },
    {
      "cell_type": "code",
      "source": [
        "a = {\n",
        "    \"name\": \"Jatin Katyal\",\n",
        "    \"language\": \"python\"\n",
        "}"
      ],
      "metadata": {
        "id": "Mj0_NrixdD89"
      },
      "execution_count": 8,
      "outputs": []
    },
    {
      "cell_type": "code",
      "source": [
        "class Vehicle:\n",
        "  def __init__(self, name, owner):\n",
        "    self.name = name\n",
        "    self.owner = owner"
      ],
      "metadata": {
        "id": "ZOFD7ANqgnSj"
      },
      "execution_count": 10,
      "outputs": []
    },
    {
      "cell_type": "code",
      "source": [
        "class Dog:\n",
        "  name = \"bruno\""
      ],
      "metadata": {
        "id": "uBGyfluBhtlI"
      },
      "execution_count": 14,
      "outputs": []
    },
    {
      "cell_type": "code",
      "source": [
        "d1 = Dog()"
      ],
      "metadata": {
        "id": "6LGgIy-mikGf"
      },
      "execution_count": 16,
      "outputs": []
    },
    {
      "cell_type": "code",
      "source": [
        "d1.name"
      ],
      "metadata": {
        "colab": {
          "base_uri": "https://localhost:8080/",
          "height": 35
        },
        "id": "V59_fUKnink5",
        "outputId": "21ed75b9-f397-4234-8b1a-55b3bec52262"
      },
      "execution_count": 17,
      "outputs": [
        {
          "output_type": "execute_result",
          "data": {
            "text/plain": [
              "'bruno'"
            ],
            "application/vnd.google.colaboratory.intrinsic+json": {
              "type": "string"
            }
          },
          "metadata": {},
          "execution_count": 17
        }
      ]
    },
    {
      "cell_type": "code",
      "source": [
        "d1.name = \"tommy\""
      ],
      "metadata": {
        "id": "M1C1qKkIipB5"
      },
      "execution_count": 18,
      "outputs": []
    },
    {
      "cell_type": "code",
      "source": [
        "d1.name"
      ],
      "metadata": {
        "colab": {
          "base_uri": "https://localhost:8080/",
          "height": 35
        },
        "id": "-tt2700ejHLp",
        "outputId": "49bf5933-e276-43cf-fa41-33d211528792"
      },
      "execution_count": 19,
      "outputs": [
        {
          "output_type": "execute_result",
          "data": {
            "text/plain": [
              "'tommy'"
            ],
            "application/vnd.google.colaboratory.intrinsic+json": {
              "type": "string"
            }
          },
          "metadata": {},
          "execution_count": 19
        }
      ]
    },
    {
      "cell_type": "code",
      "source": [
        "d2 = Dog()"
      ],
      "metadata": {
        "id": "2kb9A3EZjISM"
      },
      "execution_count": 20,
      "outputs": []
    },
    {
      "cell_type": "code",
      "source": [
        "d2.name"
      ],
      "metadata": {
        "colab": {
          "base_uri": "https://localhost:8080/",
          "height": 35
        },
        "id": "HCu7lKWrjYS7",
        "outputId": "81d6f1c4-98da-4124-9d66-f1e3996a18c4"
      },
      "execution_count": 21,
      "outputs": [
        {
          "output_type": "execute_result",
          "data": {
            "text/plain": [
              "'bruno'"
            ],
            "application/vnd.google.colaboratory.intrinsic+json": {
              "type": "string"
            }
          },
          "metadata": {},
          "execution_count": 21
        }
      ]
    },
    {
      "cell_type": "code",
      "source": [
        "class Dog:\n",
        "  name = \"bruno\"\n",
        "\n",
        "  def bark(self):\n",
        "    print(id(self))\n",
        "    print(self.name)\n",
        "    print(\"bark bark !\")"
      ],
      "metadata": {
        "id": "NPBIivrkjZB6"
      },
      "execution_count": 28,
      "outputs": []
    },
    {
      "cell_type": "code",
      "source": [
        "d1 = Dog()"
      ],
      "metadata": {
        "id": "P5N5MXQVjwq_"
      },
      "execution_count": 29,
      "outputs": []
    },
    {
      "cell_type": "code",
      "source": [
        "d1.bark()"
      ],
      "metadata": {
        "colab": {
          "base_uri": "https://localhost:8080/"
        },
        "id": "NqbLCNUBj5QR",
        "outputId": "051de399-48d6-4dda-d819-0bf5a9bf4e0d"
      },
      "execution_count": 30,
      "outputs": [
        {
          "output_type": "stream",
          "name": "stdout",
          "text": [
            "140123821908176\n",
            "bruno\n",
            "bark bark !\n"
          ]
        }
      ]
    },
    {
      "cell_type": "code",
      "source": [
        "id(d1)"
      ],
      "metadata": {
        "colab": {
          "base_uri": "https://localhost:8080/"
        },
        "id": "tQjWsv-fj7w2",
        "outputId": "ad4422b9-5e0e-45b9-ff29-b31aa9b7c73d"
      },
      "execution_count": 31,
      "outputs": [
        {
          "output_type": "execute_result",
          "data": {
            "text/plain": [
              "140123821908176"
            ]
          },
          "metadata": {},
          "execution_count": 31
        }
      ]
    },
    {
      "cell_type": "code",
      "source": [
        "d2 = Dog()"
      ],
      "metadata": {
        "id": "Zg6QLG6mlJG5"
      },
      "execution_count": 32,
      "outputs": []
    },
    {
      "cell_type": "code",
      "source": [
        "d2.bark()"
      ],
      "metadata": {
        "colab": {
          "base_uri": "https://localhost:8080/"
        },
        "id": "Wcrvp9whlR8W",
        "outputId": "82bbf8af-3694-408a-984f-89bf4d53be95"
      },
      "execution_count": 34,
      "outputs": [
        {
          "output_type": "stream",
          "name": "stdout",
          "text": [
            "140123821409040\n",
            "bruno\n",
            "bark bark !\n"
          ]
        }
      ]
    },
    {
      "cell_type": "code",
      "source": [
        "id(d2)"
      ],
      "metadata": {
        "colab": {
          "base_uri": "https://localhost:8080/"
        },
        "id": "9EOjE0m7lTFT",
        "outputId": "850cc83d-5b75-40c6-d21f-df720ce7ffab"
      },
      "execution_count": 35,
      "outputs": [
        {
          "output_type": "execute_result",
          "data": {
            "text/plain": [
              "140123821409040"
            ]
          },
          "metadata": {},
          "execution_count": 35
        }
      ]
    },
    {
      "cell_type": "code",
      "source": [
        "d2.name = \"tuffy\""
      ],
      "metadata": {
        "id": "gmPlAHvjlVwD"
      },
      "execution_count": 36,
      "outputs": []
    },
    {
      "cell_type": "code",
      "source": [
        "print(d2.name)"
      ],
      "metadata": {
        "colab": {
          "base_uri": "https://localhost:8080/"
        },
        "id": "TO2-gE9Olfmv",
        "outputId": "a3c81989-8155-434b-f598-caeb488a2db7"
      },
      "execution_count": 37,
      "outputs": [
        {
          "output_type": "stream",
          "name": "stdout",
          "text": [
            "tuffy\n"
          ]
        }
      ]
    },
    {
      "cell_type": "code",
      "source": [
        "class Dog:\n",
        "  name = \"bruno\"\n",
        "\n",
        "  def change_name(self, new_name):\n",
        "    self.name = new_name"
      ],
      "metadata": {
        "id": "AOgHFLDHlhAC"
      },
      "execution_count": 39,
      "outputs": []
    },
    {
      "cell_type": "code",
      "source": [
        "d1 = Dog()"
      ],
      "metadata": {
        "id": "iQ4vtlRPl63e"
      },
      "execution_count": 40,
      "outputs": []
    },
    {
      "cell_type": "code",
      "source": [
        "d1.change_name(\"tuffy\")"
      ],
      "metadata": {
        "id": "spqUAEeMmO1Q"
      },
      "execution_count": 41,
      "outputs": []
    },
    {
      "cell_type": "code",
      "source": [
        "d1.name"
      ],
      "metadata": {
        "colab": {
          "base_uri": "https://localhost:8080/",
          "height": 35
        },
        "id": "SxL-rJi5mQW6",
        "outputId": "59df9baa-87e5-4dfc-ceef-4fb474513bd5"
      },
      "execution_count": 42,
      "outputs": [
        {
          "output_type": "execute_result",
          "data": {
            "text/plain": [
              "'tuffy'"
            ],
            "application/vnd.google.colaboratory.intrinsic+json": {
              "type": "string"
            }
          },
          "metadata": {},
          "execution_count": 42
        }
      ]
    },
    {
      "cell_type": "code",
      "source": [
        "first_name = \"jatin\"\n",
        "last_name = \"katyal\""
      ],
      "metadata": {
        "id": "tJnfXpqMmQ-K"
      },
      "execution_count": 43,
      "outputs": []
    },
    {
      "cell_type": "code",
      "source": [
        "first_name + last_name"
      ],
      "metadata": {
        "colab": {
          "base_uri": "https://localhost:8080/",
          "height": 35
        },
        "id": "D9Gtib-sm4EG",
        "outputId": "77de3c1a-76c8-4e05-dba3-31417bc6a817"
      },
      "execution_count": 44,
      "outputs": [
        {
          "output_type": "execute_result",
          "data": {
            "text/plain": [
              "'jatinkatyal'"
            ],
            "application/vnd.google.colaboratory.intrinsic+json": {
              "type": "string"
            }
          },
          "metadata": {},
          "execution_count": 44
        }
      ]
    },
    {
      "cell_type": "code",
      "source": [
        "first_name.__add__(last_name)"
      ],
      "metadata": {
        "colab": {
          "base_uri": "https://localhost:8080/",
          "height": 35
        },
        "id": "LNDtqjuunBLw",
        "outputId": "2dcea788-7db5-4043-eb43-cb22ac3b5e28"
      },
      "execution_count": 46,
      "outputs": [
        {
          "output_type": "execute_result",
          "data": {
            "text/plain": [
              "'jatinkatyal'"
            ],
            "application/vnd.google.colaboratory.intrinsic+json": {
              "type": "string"
            }
          },
          "metadata": {},
          "execution_count": 46
        }
      ]
    },
    {
      "cell_type": "code",
      "source": [
        "first_name == last_name"
      ],
      "metadata": {
        "colab": {
          "base_uri": "https://localhost:8080/"
        },
        "id": "LC61jm0enCw9",
        "outputId": "10c4063c-aacc-4bae-8c5c-835e0ab84e63"
      },
      "execution_count": 47,
      "outputs": [
        {
          "output_type": "execute_result",
          "data": {
            "text/plain": [
              "False"
            ]
          },
          "metadata": {},
          "execution_count": 47
        }
      ]
    },
    {
      "cell_type": "code",
      "source": [
        "first_name.__eq__(last_name)"
      ],
      "metadata": {
        "colab": {
          "base_uri": "https://localhost:8080/"
        },
        "id": "oEw_3UaOnx-8",
        "outputId": "cc73b61e-3265-4cdd-8cc7-a9544df2f88a"
      },
      "execution_count": 48,
      "outputs": [
        {
          "output_type": "execute_result",
          "data": {
            "text/plain": [
              "False"
            ]
          },
          "metadata": {},
          "execution_count": 48
        }
      ]
    },
    {
      "cell_type": "code",
      "source": [
        "class Dog:\n",
        "  def __init__(self, name, breed):\n",
        "    self.name = name\n"
      ],
      "metadata": {
        "id": "EwZAdPFMnzvv"
      },
      "execution_count": 64,
      "outputs": []
    },
    {
      "cell_type": "code",
      "source": [
        "d1 = Dog(\"bruno\", \"something\")"
      ],
      "metadata": {
        "id": "VhntzN_IoCLV"
      },
      "execution_count": 65,
      "outputs": []
    },
    {
      "cell_type": "code",
      "source": [
        "d2 = Dog(\"tommy\")"
      ],
      "metadata": {
        "id": "YqU-_yOXoaAk"
      },
      "execution_count": 54,
      "outputs": []
    },
    {
      "cell_type": "code",
      "source": [
        "print(d1)\n",
        "print(d2)"
      ],
      "metadata": {
        "colab": {
          "base_uri": "https://localhost:8080/"
        },
        "id": "WnCsJS4ionZP",
        "outputId": "6de49506-0458-4ac8-894a-160d4e6098a0"
      },
      "execution_count": 55,
      "outputs": [
        {
          "output_type": "stream",
          "name": "stdout",
          "text": [
            "<__main__.Dog object at 0x7f711eaf1bd0>\n",
            "<__main__.Dog object at 0x7f711eaef890>\n"
          ]
        }
      ]
    },
    {
      "cell_type": "code",
      "source": [
        "a = 5"
      ],
      "metadata": {
        "id": "LWIGcV12pG1N"
      },
      "execution_count": 66,
      "outputs": []
    },
    {
      "cell_type": "code",
      "source": [
        "a = 1.5"
      ],
      "metadata": {
        "id": "AIotXtaHsIAI"
      },
      "execution_count": 67,
      "outputs": []
    },
    {
      "cell_type": "code",
      "source": [
        "a = \"name\""
      ],
      "metadata": {
        "id": "8Kt3N8MqsIlq"
      },
      "execution_count": 68,
      "outputs": []
    },
    {
      "cell_type": "code",
      "source": [
        "def a():\n",
        "  print(\"Hello\")"
      ],
      "metadata": {
        "id": "plawtVYRsJW3"
      },
      "execution_count": 69,
      "outputs": []
    },
    {
      "cell_type": "code",
      "source": [
        "class A:\n",
        "  name = \"something\"\n",
        "  "
      ],
      "metadata": {
        "id": "R0vvUfZJsK-U"
      },
      "execution_count": 77,
      "outputs": []
    },
    {
      "cell_type": "code",
      "source": [
        "isinstance(A, object)"
      ],
      "metadata": {
        "colab": {
          "base_uri": "https://localhost:8080/"
        },
        "id": "riqX37mJsPQZ",
        "outputId": "8013ef46-ed45-4d51-d397-35178a9c6917"
      },
      "execution_count": 76,
      "outputs": [
        {
          "output_type": "execute_result",
          "data": {
            "text/plain": [
              "True"
            ]
          },
          "metadata": {},
          "execution_count": 76
        }
      ]
    },
    {
      "cell_type": "code",
      "source": [
        "A.name"
      ],
      "metadata": {
        "colab": {
          "base_uri": "https://localhost:8080/",
          "height": 35
        },
        "id": "repapJ39sS03",
        "outputId": "5d2776f9-8ef7-4846-e1c7-93a9ce3f7159"
      },
      "execution_count": 78,
      "outputs": [
        {
          "output_type": "execute_result",
          "data": {
            "text/plain": [
              "'something'"
            ],
            "application/vnd.google.colaboratory.intrinsic+json": {
              "type": "string"
            }
          },
          "metadata": {},
          "execution_count": 78
        }
      ]
    },
    {
      "cell_type": "code",
      "source": [
        ""
      ],
      "metadata": {
        "id": "ORMFcS4-srIA"
      },
      "execution_count": null,
      "outputs": []
    },
    {
      "cell_type": "code",
      "source": [
        "class Dog:\n",
        "  name = \"bruno\"\n",
        "  tricks = []\n",
        "\n",
        "  def change_name(self, new_name):\n",
        "    self.name = new_name\n",
        "\n",
        "  def add_trick(self, trick):\n",
        "    self.tricks.append(trick)"
      ],
      "metadata": {
        "id": "IXwhb1Wwu1i0"
      },
      "execution_count": 91,
      "outputs": []
    },
    {
      "cell_type": "code",
      "source": [
        "d1 = Dog()"
      ],
      "metadata": {
        "id": "wOVGK2QOu2CD"
      },
      "execution_count": 80,
      "outputs": []
    },
    {
      "cell_type": "code",
      "source": [
        "print(d1.name)\n",
        "print(d1.tricks)\n",
        "d1.change_name('tommy')\n",
        "print(d1.name)"
      ],
      "metadata": {
        "colab": {
          "base_uri": "https://localhost:8080/"
        },
        "id": "OOL39A9svQyw",
        "outputId": "5fb8df89-8f37-40f3-d0b7-9f59f494978a"
      },
      "execution_count": 84,
      "outputs": [
        {
          "output_type": "stream",
          "name": "stdout",
          "text": [
            "bruno\n",
            "[]\n",
            "tommy\n"
          ]
        }
      ]
    },
    {
      "cell_type": "code",
      "source": [
        "d1.add_trick(\"fetch\")"
      ],
      "metadata": {
        "id": "Na8xdsZGvSAg"
      },
      "execution_count": 85,
      "outputs": []
    },
    {
      "cell_type": "code",
      "source": [
        "d1.tricks"
      ],
      "metadata": {
        "colab": {
          "base_uri": "https://localhost:8080/"
        },
        "id": "uwaO5KvhvSgr",
        "outputId": "390cb6b9-796c-48e8-9ae6-fca6c93b3eb8"
      },
      "execution_count": 86,
      "outputs": [
        {
          "output_type": "execute_result",
          "data": {
            "text/plain": [
              "['fetch']"
            ]
          },
          "metadata": {},
          "execution_count": 86
        }
      ]
    },
    {
      "cell_type": "code",
      "source": [
        "d2 = Dog()"
      ],
      "metadata": {
        "id": "4rIvgBorvbsI"
      },
      "execution_count": 87,
      "outputs": []
    },
    {
      "cell_type": "code",
      "source": [
        "d2.name"
      ],
      "metadata": {
        "colab": {
          "base_uri": "https://localhost:8080/",
          "height": 35
        },
        "id": "L0QMDC2aveog",
        "outputId": "64027f63-e2ed-478d-d225-b975d01fb228"
      },
      "execution_count": 88,
      "outputs": [
        {
          "output_type": "execute_result",
          "data": {
            "text/plain": [
              "'bruno'"
            ],
            "application/vnd.google.colaboratory.intrinsic+json": {
              "type": "string"
            }
          },
          "metadata": {},
          "execution_count": 88
        }
      ]
    },
    {
      "cell_type": "code",
      "source": [
        "d1.name"
      ],
      "metadata": {
        "colab": {
          "base_uri": "https://localhost:8080/",
          "height": 35
        },
        "id": "6EE9y9RNvfXb",
        "outputId": "7773f2c1-cd8e-4349-b5dc-8cff9e2a3ef7"
      },
      "execution_count": 89,
      "outputs": [
        {
          "output_type": "execute_result",
          "data": {
            "text/plain": [
              "'tommy'"
            ],
            "application/vnd.google.colaboratory.intrinsic+json": {
              "type": "string"
            }
          },
          "metadata": {},
          "execution_count": 89
        }
      ]
    },
    {
      "cell_type": "code",
      "source": [
        "d2.tricks"
      ],
      "metadata": {
        "colab": {
          "base_uri": "https://localhost:8080/"
        },
        "id": "1uXZXxcuvg-6",
        "outputId": "dbfe7c1a-ab86-4f1a-e421-46f0bddcca0f"
      },
      "execution_count": 90,
      "outputs": [
        {
          "output_type": "execute_result",
          "data": {
            "text/plain": [
              "['fetch']"
            ]
          },
          "metadata": {},
          "execution_count": 90
        }
      ]
    },
    {
      "cell_type": "code",
      "source": [
        "a = \"foo\"\n",
        "b = a\n",
        "\n",
        "b = \"bar\"\n",
        "\n",
        "print(a)\n",
        "print(b)"
      ],
      "metadata": {
        "id": "FgaGruJjvhv2"
      },
      "execution_count": null,
      "outputs": []
    },
    {
      "cell_type": "code",
      "source": [
        "a = [1, 2, 3]\n",
        "b = a\n",
        "\n",
        "b.append(4)\n",
        "\n",
        "print(a)\n",
        "print(b)"
      ],
      "metadata": {
        "colab": {
          "base_uri": "https://localhost:8080/"
        },
        "id": "8pQgyzr9wa9q",
        "outputId": "f6d15e3a-edb3-4098-a6bd-5b66b76a348d"
      },
      "execution_count": 92,
      "outputs": [
        {
          "output_type": "stream",
          "name": "stdout",
          "text": [
            "[1, 2, 3, 4]\n",
            "[1, 2, 3, 4]\n"
          ]
        }
      ]
    },
    {
      "cell_type": "markdown",
      "source": [
        "Correct Code"
      ],
      "metadata": {
        "id": "6BjyRPMQwzSH"
      }
    },
    {
      "cell_type": "code",
      "source": [
        "class Dog:\n",
        "  def __init__(self):\n",
        "    self.name = \"bruno\"\n",
        "    self.tricks = []\n",
        "\n",
        "  def change_name(self, new_name):\n",
        "    self.name = new_name\n",
        "\n",
        "  def add_trick(self, trick):\n",
        "    self.tricks.append(trick)"
      ],
      "metadata": {
        "id": "Q8RXM4Vrwi7k"
      },
      "execution_count": null,
      "outputs": []
    },
    {
      "cell_type": "code",
      "source": [
        ""
      ],
      "metadata": {
        "id": "aZ6y6sTTxYeb"
      },
      "execution_count": null,
      "outputs": []
    },
    {
      "cell_type": "code",
      "source": [
        "class A:\n",
        "  foo = 1\n",
        "\n",
        "  def show(self):\n",
        "    print(self.foo)"
      ],
      "metadata": {
        "id": "jXUP4bzYxY25"
      },
      "execution_count": 99,
      "outputs": []
    },
    {
      "cell_type": "code",
      "source": [
        "A.foo"
      ],
      "metadata": {
        "colab": {
          "base_uri": "https://localhost:8080/"
        },
        "id": "vIYoRItCxaXQ",
        "outputId": "37aa2be1-a801-4e70-baea-abfb21767740"
      },
      "execution_count": 94,
      "outputs": [
        {
          "output_type": "execute_result",
          "data": {
            "text/plain": [
              "1"
            ]
          },
          "metadata": {},
          "execution_count": 94
        }
      ]
    },
    {
      "cell_type": "code",
      "source": [
        "a = A()"
      ],
      "metadata": {
        "id": "ZcVluQPbxbkv"
      },
      "execution_count": 95,
      "outputs": []
    },
    {
      "cell_type": "code",
      "source": [
        "a.show()"
      ],
      "metadata": {
        "colab": {
          "base_uri": "https://localhost:8080/"
        },
        "id": "f2F6RREMxs8v",
        "outputId": "7622e103-91aa-46f6-f653-bbfad4854268"
      },
      "execution_count": 96,
      "outputs": [
        {
          "output_type": "execute_result",
          "data": {
            "text/plain": [
              "1"
            ]
          },
          "metadata": {},
          "execution_count": 96
        }
      ]
    },
    {
      "cell_type": "code",
      "source": [
        "a.foo = 2"
      ],
      "metadata": {
        "id": "g9cp68LXxuCD"
      },
      "execution_count": 97,
      "outputs": []
    },
    {
      "cell_type": "code",
      "source": [
        "A.foo"
      ],
      "metadata": {
        "colab": {
          "base_uri": "https://localhost:8080/"
        },
        "id": "EkoglB1HyQhO",
        "outputId": "5271c759-13bb-44d3-8067-89b9822f1376"
      },
      "execution_count": 98,
      "outputs": [
        {
          "output_type": "execute_result",
          "data": {
            "text/plain": [
              "1"
            ]
          },
          "metadata": {},
          "execution_count": 98
        }
      ]
    },
    {
      "cell_type": "code",
      "source": [
        "class A:\n",
        "  def __init__(self):\n",
        "    print(\"ran init\")"
      ],
      "metadata": {
        "id": "hK4OxT5jyQ_e"
      },
      "execution_count": 103,
      "outputs": []
    },
    {
      "cell_type": "code",
      "source": [
        "A()"
      ],
      "metadata": {
        "colab": {
          "base_uri": "https://localhost:8080/"
        },
        "id": "s_J3CqxBzCdf",
        "outputId": "381677ee-22bb-4c25-c742-f9ad591d186f"
      },
      "execution_count": 104,
      "outputs": [
        {
          "output_type": "stream",
          "name": "stdout",
          "text": [
            "ran init\n"
          ]
        },
        {
          "output_type": "execute_result",
          "data": {
            "text/plain": [
              "<__main__.A at 0x7f7116aa0450>"
            ]
          },
          "metadata": {},
          "execution_count": 104
        }
      ]
    },
    {
      "cell_type": "code",
      "source": [
        ""
      ],
      "metadata": {
        "id": "pnJaxYLTzFjk"
      },
      "execution_count": null,
      "outputs": []
    }
  ]
}