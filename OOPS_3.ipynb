{
  "nbformat": 4,
  "nbformat_minor": 0,
  "metadata": {
    "colab": {
      "name": "OOPS 3",
      "provenance": [],
      "collapsed_sections": [],
      "authorship_tag": "ABX9TyOhyzb3zNTlZGneSjg4Fh2v",
      "include_colab_link": true
    },
    "kernelspec": {
      "name": "python3",
      "display_name": "Python 3"
    },
    "language_info": {
      "name": "python"
    }
  },
  "cells": [
    {
      "cell_type": "markdown",
      "metadata": {
        "id": "view-in-github",
        "colab_type": "text"
      },
      "source": [
        "<a href=\"https://colab.research.google.com/github/scaleracademy/dsml-intermediate-may22/blob/main/OOPS_3.ipynb\" target=\"_parent\"><img src=\"https://colab.research.google.com/assets/colab-badge.svg\" alt=\"Open In Colab\"/></a>"
      ]
    },
    {
      "cell_type": "code",
      "execution_count": 1,
      "metadata": {
        "id": "psWm7ZJtEm2H"
      },
      "outputs": [],
      "source": [
        "class Foo:\n",
        "  def bar(self):\n",
        "    print(\"something\")\n",
        "\n",
        "class FooChild(Foo):\n",
        "  def bar(self):\n",
        "    print(\"something else\")\n",
        "  \n",
        "  def show(self):\n",
        "    self.bar()\n",
        "    super().bar()"
      ]
    },
    {
      "cell_type": "code",
      "source": [
        "lis = [(0, 2), (1, 3), (2, 4)]\n",
        "sum([n for _, n in lis])"
      ],
      "metadata": {
        "colab": {
          "base_uri": "https://localhost:8080/"
        },
        "id": "HGY-wSB1JEVp",
        "outputId": "9a1fa872-18f4-43fd-f175-0b0706623418"
      },
      "execution_count": 9,
      "outputs": [
        {
          "output_type": "execute_result",
          "data": {
            "text/plain": [
              "9"
            ]
          },
          "metadata": {},
          "execution_count": 9
        }
      ]
    },
    {
      "cell_type": "code",
      "source": [
        "def foo(*args):\n",
        "  print(args)"
      ],
      "metadata": {
        "id": "VVlM8sgzJr23"
      },
      "execution_count": 4,
      "outputs": []
    },
    {
      "cell_type": "code",
      "source": [
        "lis = [(0, 2), (1, 3), (2, 4)]\n",
        "for _, val in lis:\n",
        "  print(val)"
      ],
      "metadata": {
        "colab": {
          "base_uri": "https://localhost:8080/"
        },
        "id": "p5A7frAUJutX",
        "outputId": "45f0da6f-d318-467d-900b-0f794d168c5e"
      },
      "execution_count": 8,
      "outputs": [
        {
          "output_type": "stream",
          "name": "stdout",
          "text": [
            "2\n",
            "3\n",
            "4\n"
          ]
        }
      ]
    },
    {
      "cell_type": "code",
      "source": [
        "class Foo:\n",
        "  def __init__(self):\n",
        "    print(\"init in foo\")\n",
        "\n",
        "class Bar(Foo):\n",
        "  def __init__(self):\n",
        "    super().__init__()\n",
        "    print(\"init in bar\")"
      ],
      "metadata": {
        "id": "krInTCu7J9Ko"
      },
      "execution_count": 14,
      "outputs": []
    },
    {
      "cell_type": "code",
      "source": [
        "Bar()"
      ],
      "metadata": {
        "colab": {
          "base_uri": "https://localhost:8080/"
        },
        "id": "OpUANAyaLoia",
        "outputId": "de4b6fde-5f6f-4a78-caf2-06f2888debf4"
      },
      "execution_count": 15,
      "outputs": [
        {
          "output_type": "stream",
          "name": "stdout",
          "text": [
            "init in foo\n",
            "init in bar\n"
          ]
        },
        {
          "output_type": "execute_result",
          "data": {
            "text/plain": [
              "<__main__.Bar at 0x7f35da82a450>"
            ]
          },
          "metadata": {},
          "execution_count": 15
        }
      ]
    },
    {
      "cell_type": "code",
      "source": [
        "def add(a, b):\n",
        "  return a + b"
      ],
      "metadata": {
        "id": "CNc3sar9Lzgr"
      },
      "execution_count": 18,
      "outputs": []
    },
    {
      "cell_type": "code",
      "source": [
        "def add(a, b, c):\n",
        "  return a + b + c"
      ],
      "metadata": {
        "id": "fHJZ2SVAV-K-"
      },
      "execution_count": 19,
      "outputs": []
    },
    {
      "cell_type": "code",
      "source": [
        "class Foo:\n",
        "  __something = \"something\"\n",
        "  def __show(self):\n",
        "    print(\"this is public show\")"
      ],
      "metadata": {
        "id": "zbLWPgocWAGP"
      },
      "execution_count": 35,
      "outputs": []
    },
    {
      "cell_type": "code",
      "source": [
        "a = Foo()\n",
        "a.__something\n",
        "a.__show()"
      ],
      "metadata": {
        "colab": {
          "base_uri": "https://localhost:8080/",
          "height": 204
        },
        "id": "-yI6hmzcc8-G",
        "outputId": "24941b75-c889-4ec4-847a-0fd437cc0639"
      },
      "execution_count": 36,
      "outputs": [
        {
          "output_type": "error",
          "ename": "AttributeError",
          "evalue": "ignored",
          "traceback": [
            "\u001b[0;31m---------------------------------------------------------------------------\u001b[0m",
            "\u001b[0;31mAttributeError\u001b[0m                            Traceback (most recent call last)",
            "\u001b[0;32m<ipython-input-36-aaaff299a80f>\u001b[0m in \u001b[0;36m<module>\u001b[0;34m()\u001b[0m\n\u001b[1;32m      1\u001b[0m \u001b[0ma\u001b[0m \u001b[0;34m=\u001b[0m \u001b[0mFoo\u001b[0m\u001b[0;34m(\u001b[0m\u001b[0;34m)\u001b[0m\u001b[0;34m\u001b[0m\u001b[0;34m\u001b[0m\u001b[0m\n\u001b[0;32m----> 2\u001b[0;31m \u001b[0ma\u001b[0m\u001b[0;34m.\u001b[0m\u001b[0m__something\u001b[0m\u001b[0;34m\u001b[0m\u001b[0;34m\u001b[0m\u001b[0m\n\u001b[0m\u001b[1;32m      3\u001b[0m \u001b[0ma\u001b[0m\u001b[0;34m.\u001b[0m\u001b[0m__show\u001b[0m\u001b[0;34m(\u001b[0m\u001b[0;34m)\u001b[0m\u001b[0;34m\u001b[0m\u001b[0;34m\u001b[0m\u001b[0m\n",
            "\u001b[0;31mAttributeError\u001b[0m: 'Foo' object has no attribute '__something'"
          ]
        }
      ]
    },
    {
      "cell_type": "markdown",
      "source": [
        "Create a Banking System"
      ],
      "metadata": {
        "id": "BtWA8Vp1fhPc"
      }
    },
    {
      "cell_type": "code",
      "source": [
        "wallet_amount = 0\n",
        "\n",
        "def deposit(amount):\n",
        "  return wallet_amount + amount\n",
        "\n",
        "def withdraw(amount):\n",
        "  return wallet_amount - amount"
      ],
      "metadata": {
        "id": "0FfR6Rc_c-TT"
      },
      "execution_count": 37,
      "outputs": []
    },
    {
      "cell_type": "code",
      "source": [
        "wallet_amount = deposit(500)"
      ],
      "metadata": {
        "id": "EiUCvIvDf28O"
      },
      "execution_count": 38,
      "outputs": []
    },
    {
      "cell_type": "code",
      "source": [
        "wallet_amount"
      ],
      "metadata": {
        "colab": {
          "base_uri": "https://localhost:8080/"
        },
        "id": "MnHsefWmf63Q",
        "outputId": "9d482d6b-efbe-47a8-b036-375d78020cb3"
      },
      "execution_count": 39,
      "outputs": [
        {
          "output_type": "execute_result",
          "data": {
            "text/plain": [
              "500"
            ]
          },
          "metadata": {},
          "execution_count": 39
        }
      ]
    },
    {
      "cell_type": "code",
      "source": [
        "wallet_amount = withdraw(200)"
      ],
      "metadata": {
        "id": "r2DVqQjXf8SP"
      },
      "execution_count": 40,
      "outputs": []
    },
    {
      "cell_type": "code",
      "source": [
        "wallet_amount"
      ],
      "metadata": {
        "colab": {
          "base_uri": "https://localhost:8080/"
        },
        "id": "YJEGvdwLf-vz",
        "outputId": "6610f06c-ed8e-43a5-e488-f30e3d5174fe"
      },
      "execution_count": 41,
      "outputs": [
        {
          "output_type": "execute_result",
          "data": {
            "text/plain": [
              "300"
            ]
          },
          "metadata": {},
          "execution_count": 41
        }
      ]
    },
    {
      "cell_type": "code",
      "source": [
        "class BankAccount:\n",
        "  __balance = 0\n",
        "\n",
        "  # getters\n",
        "  def _get_balance(self):\n",
        "    return self.__balance\n",
        "\n",
        "  def can_withdraw(self, amount):\n",
        "    return self.__balance >= amount\n",
        "  \n",
        "  def deposit(self, amount):\n",
        "    self.__balance += amount\n",
        "\n",
        "  def withdraw(self, amount):\n",
        "    if self.can_withdraw(amount):\n",
        "      self.__balance -= amount\n",
        "\n",
        "  def statement(self):\n",
        "    print(\"Your balance is\", self.__balance)"
      ],
      "metadata": {
        "id": "6nqpG9QCf_ld"
      },
      "execution_count": 95,
      "outputs": []
    },
    {
      "cell_type": "code",
      "source": [
        "ba1 = BankAccount()"
      ],
      "metadata": {
        "id": "JhS9s58igisZ"
      },
      "execution_count": 96,
      "outputs": []
    },
    {
      "cell_type": "code",
      "source": [
        "ba1.deposit(500)"
      ],
      "metadata": {
        "id": "z41Ahk2fgoqk"
      },
      "execution_count": 97,
      "outputs": []
    },
    {
      "cell_type": "code",
      "source": [
        "ba1.withdraw(200)"
      ],
      "metadata": {
        "id": "8acC9g2rgrq5"
      },
      "execution_count": 98,
      "outputs": []
    },
    {
      "cell_type": "code",
      "source": [
        "ba1.statement()"
      ],
      "metadata": {
        "colab": {
          "base_uri": "https://localhost:8080/"
        },
        "id": "J2y7EtgAgtUX",
        "outputId": "66740f93-f840-4f88-a122-e1643e7102cf"
      },
      "execution_count": 99,
      "outputs": [
        {
          "output_type": "stream",
          "name": "stdout",
          "text": [
            "Your balance is 300\n"
          ]
        }
      ]
    },
    {
      "cell_type": "code",
      "source": [
        "ba1.withdraw(1000)"
      ],
      "metadata": {
        "id": "b-_ACTIKg0OA"
      },
      "execution_count": 100,
      "outputs": []
    },
    {
      "cell_type": "code",
      "source": [
        "ba1.statement()"
      ],
      "metadata": {
        "colab": {
          "base_uri": "https://localhost:8080/"
        },
        "id": "sitLe1Hwg1Zx",
        "outputId": "93fa9808-b959-477e-f57d-a85fab28b0c1"
      },
      "execution_count": 101,
      "outputs": [
        {
          "output_type": "stream",
          "name": "stdout",
          "text": [
            "Your balance is 300\n"
          ]
        }
      ]
    },
    {
      "cell_type": "code",
      "source": [
        "class CurrentAccount(BankAccount):\n",
        "  def statement(self):\n",
        "    super().statement()\n",
        "    print(\"here is an offer for you\")\n",
        "\n",
        "class SavingsAccount(BankAccount):\n",
        "  __minimum_balance = 1000\n",
        "\n",
        "  def can_withdraw(self, amount):\n",
        "    return self._get_balance() - self.__minimum_balance >= amount"
      ],
      "metadata": {
        "id": "Mhm3RQ3BiKyr"
      },
      "execution_count": 91,
      "outputs": []
    },
    {
      "cell_type": "code",
      "source": [
        "ca = CurrentAccount()\n",
        "ca.deposit(2000)\n",
        "ca.withdraw(500)\n",
        "ca.statement()"
      ],
      "metadata": {
        "colab": {
          "base_uri": "https://localhost:8080/"
        },
        "id": "yYHN6o7VjG0a",
        "outputId": "3d8f63f6-875f-4550-bd04-b819067ea6db"
      },
      "execution_count": 92,
      "outputs": [
        {
          "output_type": "stream",
          "name": "stdout",
          "text": [
            "Your balance is 1500\n",
            "here is an offer for you\n"
          ]
        }
      ]
    },
    {
      "cell_type": "code",
      "source": [
        "sa = SavingsAccount()\n",
        "sa.deposit(200)\n",
        "sa.withdraw(100)\n",
        "sa.statement()"
      ],
      "metadata": {
        "colab": {
          "base_uri": "https://localhost:8080/"
        },
        "id": "hd_7y1Y5kOmq",
        "outputId": "e495db8e-f668-4556-94bd-b8849a460a6e"
      },
      "execution_count": 93,
      "outputs": [
        {
          "output_type": "stream",
          "name": "stdout",
          "text": [
            "Your balance is 200\n"
          ]
        }
      ]
    },
    {
      "cell_type": "code",
      "source": [
        "sa._get_balance()"
      ],
      "metadata": {
        "colab": {
          "base_uri": "https://localhost:8080/"
        },
        "id": "ac2m41hOkYRo",
        "outputId": "887e1fa7-ecf6-4a61-8c46-8ca661b1d4de"
      },
      "execution_count": 94,
      "outputs": [
        {
          "output_type": "execute_result",
          "data": {
            "text/plain": [
              "200"
            ]
          },
          "metadata": {},
          "execution_count": 94
        }
      ]
    },
    {
      "cell_type": "code",
      "source": [
        "a + b\n",
        "a.__add__(b)"
      ],
      "metadata": {
        "id": "r3K-gRgkkuyp"
      },
      "execution_count": null,
      "outputs": []
    }
  ]
}