{
  "cells": [
    {
      "cell_type": "markdown",
      "metadata": {
        "id": "view-in-github",
        "colab_type": "text"
      },
      "source": [
        "<a href=\"https://colab.research.google.com/github/scaleracademy/dsml-intermediate-may22/blob/main/File_Handling.ipynb\" target=\"_parent\"><img src=\"https://colab.research.google.com/assets/colab-badge.svg\" alt=\"Open In Colab\"/></a>"
      ]
    },
    {
      "cell_type": "markdown",
      "metadata": {
        "id": "hAuhUHyQUP2N"
      },
      "source": [
        "#<center>Working with Files</center>"
      ]
    },
    {
      "cell_type": "markdown",
      "metadata": {
        "id": "hcQO2sctUP2V"
      },
      "source": [
        "## File Access Modes\n",
        "\n",
        ">Access modes govern the type of operations possible in the opened file. It refers to how the file will be used once its opened. These modes also define the location of the File Handle in the file. File handle is like a cursor, which defines from where the data has to be read or written in the file. There are 6 access modes in python.\n",
        "\n",
        "- **Read Only (‘r’)** : Open text file for reading. The handle is positioned at the beginning of the file. If the file does not exists, raises I/O error. This is also the default mode in which file is opened.\n",
        "\n",
        "\n",
        "- **Read and Write (‘r+’)** : Open the file for reading and writing. The handle is positioned at the beginning of the file. Raises I/O error if the file does not exists.\n",
        "\n",
        "\n",
        "- **Write Only (‘w’)** : Open the file for writing. For existing file, the data is truncated and over-written. The handle is positioned at the beginning of the file. Creates the file if the file does not exists.\n",
        "\n",
        "\n",
        "- **Write and Read (‘w+’)** : Open the file for reading and writing. For existing file, data is truncated and over-written. The handle is positioned at the beginning of the file.\n",
        "\n",
        "\n",
        "- **Append Only (‘a’)** : Open the file for writing. The file is created if it does not exist. The handle is positioned at the end of the file. The data being written will be inserted at the end, after the existing data.\n",
        "\n",
        "\n",
        "- **Append and Read (‘a+’)** : Open the file for reading and writing. The file is created if it does not exist. The handle is positioned at the end of the file. The data being written will be inserted at the end, after the existing data."
      ]
    },
    {
      "cell_type": "markdown",
      "metadata": {
        "id": "WTGn-IGwUP2W"
      },
      "source": [
        "## 1. Text files"
      ]
    },
    {
      "cell_type": "markdown",
      "metadata": {
        "id": "On3aebJnUP2W"
      },
      "source": [
        "### Opening a file"
      ]
    },
    {
      "cell_type": "code",
      "execution_count": 5,
      "metadata": {
        "id": "g8CqZ4LwUP2X"
      },
      "outputs": [],
      "source": [
        "file = open(\"sample.txt\", \"w\")"
      ]
    },
    {
      "cell_type": "markdown",
      "metadata": {
        "id": "JA4idAZ7UP2Y"
      },
      "source": [
        "### Closing a file\n",
        "\n",
        "<img src=https://memegenerator.net/img/instances/500x/58748422/if-you-could-just-close-that-file-thatd-be-great-emm-kay.jpg height=400 width=400>"
      ]
    },
    {
      "cell_type": "code",
      "execution_count": 6,
      "metadata": {
        "id": "rQ3QMqAbUP2Y"
      },
      "outputs": [],
      "source": [
        "file.close()"
      ]
    },
    {
      "cell_type": "code",
      "source": [
        "file.read()"
      ],
      "metadata": {
        "colab": {
          "base_uri": "https://localhost:8080/",
          "height": 169
        },
        "id": "P-2Vu7s2em7t",
        "outputId": "e91cf6f7-687a-4606-e8f3-347bf616e363"
      },
      "execution_count": 7,
      "outputs": [
        {
          "output_type": "error",
          "ename": "ValueError",
          "evalue": "ignored",
          "traceback": [
            "\u001b[0;31m---------------------------------------------------------------------------\u001b[0m",
            "\u001b[0;31mValueError\u001b[0m                                Traceback (most recent call last)",
            "\u001b[0;32m<ipython-input-7-f3fc120c03c1>\u001b[0m in \u001b[0;36m<module>\u001b[0;34m()\u001b[0m\n\u001b[0;32m----> 1\u001b[0;31m \u001b[0mfile\u001b[0m\u001b[0;34m.\u001b[0m\u001b[0mread\u001b[0m\u001b[0;34m(\u001b[0m\u001b[0;34m)\u001b[0m\u001b[0;34m\u001b[0m\u001b[0;34m\u001b[0m\u001b[0m\n\u001b[0m",
            "\u001b[0;31mValueError\u001b[0m: I/O operation on closed file."
          ]
        }
      ]
    },
    {
      "cell_type": "markdown",
      "metadata": {
        "id": "LTZ6ftqhUP2Z"
      },
      "source": [
        "### Writing to a file\n",
        "\n",
        "- write\n",
        "- writelines"
      ]
    },
    {
      "cell_type": "code",
      "execution_count": 30,
      "metadata": {
        "id": "GCZa-Y2_UP2a"
      },
      "outputs": [],
      "source": [
        "file = open(\"sample.txt\", \"w+\")"
      ]
    },
    {
      "cell_type": "code",
      "source": [
        "file.write(\"Hello World!\")"
      ],
      "metadata": {
        "colab": {
          "base_uri": "https://localhost:8080/"
        },
        "id": "HIb0xVyje02f",
        "outputId": "ef637f38-37ab-46d3-89eb-dd8b8875e776"
      },
      "execution_count": 31,
      "outputs": [
        {
          "output_type": "execute_result",
          "data": {
            "text/plain": [
              "12"
            ]
          },
          "metadata": {},
          "execution_count": 31
        }
      ]
    },
    {
      "cell_type": "code",
      "source": [
        "file.close()"
      ],
      "metadata": {
        "id": "6m4FEFdne0t4"
      },
      "execution_count": 32,
      "outputs": []
    },
    {
      "cell_type": "code",
      "source": [
        "file = open(\"sample2.txt\", \"w+\")\n",
        "file.writelines([\"this is line\\n\", \"this is second line\\n\", \"and third line\"])\n",
        "file.close()"
      ],
      "metadata": {
        "id": "9p14ZUKPg2ly"
      },
      "execution_count": 44,
      "outputs": []
    },
    {
      "cell_type": "code",
      "source": [
        "file = open(\"sample2.txt\", \"r+\")\n",
        "print(file.read())\n",
        "file.close()"
      ],
      "metadata": {
        "colab": {
          "base_uri": "https://localhost:8080/"
        },
        "id": "HKct1N-qg2cR",
        "outputId": "d27698bb-b372-4a81-8d93-4893201c1b6c"
      },
      "execution_count": 45,
      "outputs": [
        {
          "output_type": "stream",
          "name": "stdout",
          "text": [
            "this is line\n",
            "this is second line\n",
            "and third line\n"
          ]
        }
      ]
    },
    {
      "cell_type": "markdown",
      "metadata": {
        "id": "_RMuGdReUP2a"
      },
      "source": [
        "### Reading from a file\n",
        "- read\n",
        "- readline\n",
        "- readlines"
      ]
    },
    {
      "cell_type": "code",
      "execution_count": 36,
      "metadata": {
        "id": "_EgACNjSUP2a"
      },
      "outputs": [],
      "source": [
        "file = open(\"sample.txt\", \"r+\")"
      ]
    },
    {
      "cell_type": "code",
      "source": [
        "file.read()"
      ],
      "metadata": {
        "colab": {
          "base_uri": "https://localhost:8080/",
          "height": 35
        },
        "id": "9kC_l6KRfIbX",
        "outputId": "056ef7e9-cb9e-4932-971b-7f1f6105d6b8"
      },
      "execution_count": 37,
      "outputs": [
        {
          "output_type": "execute_result",
          "data": {
            "text/plain": [
              "'Hello World!'"
            ],
            "application/vnd.google.colaboratory.intrinsic+json": {
              "type": "string"
            }
          },
          "metadata": {},
          "execution_count": 37
        }
      ]
    },
    {
      "cell_type": "code",
      "source": [
        "file.write(\"hello everyone else!\")"
      ],
      "metadata": {
        "colab": {
          "base_uri": "https://localhost:8080/"
        },
        "id": "Fwt6Qq_kgfmL",
        "outputId": "df83f774-2ec8-43d3-e946-2edaf7348d49"
      },
      "execution_count": 38,
      "outputs": [
        {
          "output_type": "execute_result",
          "data": {
            "text/plain": [
              "20"
            ]
          },
          "metadata": {},
          "execution_count": 38
        }
      ]
    },
    {
      "cell_type": "code",
      "source": [
        "file.close()"
      ],
      "metadata": {
        "id": "_OYSyXYKfIXF"
      },
      "execution_count": 39,
      "outputs": []
    },
    {
      "cell_type": "code",
      "source": [
        ""
      ],
      "metadata": {
        "id": "uS6qNksjgdUT"
      },
      "execution_count": null,
      "outputs": []
    },
    {
      "cell_type": "code",
      "source": [
        "file = open(\"sample.txt\", \"r+\")\n",
        "print(file.read())\n",
        "file.close()"
      ],
      "metadata": {
        "colab": {
          "base_uri": "https://localhost:8080/"
        },
        "id": "WxKnH6J2fwIX",
        "outputId": "f5ed5e0a-5f08-4562-ef80-b51082c69d08"
      },
      "execution_count": 40,
      "outputs": [
        {
          "output_type": "stream",
          "name": "stdout",
          "text": [
            "Hello World!hello everyone else!\n"
          ]
        }
      ]
    },
    {
      "cell_type": "code",
      "source": [
        "file = open(\"sample2.txt\", \"r+\")"
      ],
      "metadata": {
        "id": "wKw5mUIafwAx"
      },
      "execution_count": 47,
      "outputs": []
    },
    {
      "cell_type": "code",
      "source": [
        "file.readline()"
      ],
      "metadata": {
        "colab": {
          "base_uri": "https://localhost:8080/",
          "height": 35
        },
        "id": "oqahKRxAfIRn",
        "outputId": "6edd23a2-da3b-430e-bc28-af5c602d63c3"
      },
      "execution_count": 48,
      "outputs": [
        {
          "output_type": "execute_result",
          "data": {
            "text/plain": [
              "'this is line\\n'"
            ],
            "application/vnd.google.colaboratory.intrinsic+json": {
              "type": "string"
            }
          },
          "metadata": {},
          "execution_count": 48
        }
      ]
    },
    {
      "cell_type": "code",
      "source": [
        "file.readline()"
      ],
      "metadata": {
        "colab": {
          "base_uri": "https://localhost:8080/",
          "height": 35
        },
        "id": "bSuf4aW8hTcD",
        "outputId": "b86f2c3b-10d3-48aa-deca-fe00a21287f1"
      },
      "execution_count": 49,
      "outputs": [
        {
          "output_type": "execute_result",
          "data": {
            "text/plain": [
              "'this is second line\\n'"
            ],
            "application/vnd.google.colaboratory.intrinsic+json": {
              "type": "string"
            }
          },
          "metadata": {},
          "execution_count": 49
        }
      ]
    },
    {
      "cell_type": "code",
      "source": [
        "file.readline()"
      ],
      "metadata": {
        "colab": {
          "base_uri": "https://localhost:8080/",
          "height": 35
        },
        "id": "Fb_oN4vmhTTV",
        "outputId": "9156e50b-9e5a-4393-815a-0595cdb69661"
      },
      "execution_count": 50,
      "outputs": [
        {
          "output_type": "execute_result",
          "data": {
            "text/plain": [
              "'and third line'"
            ],
            "application/vnd.google.colaboratory.intrinsic+json": {
              "type": "string"
            }
          },
          "metadata": {},
          "execution_count": 50
        }
      ]
    },
    {
      "cell_type": "code",
      "source": [
        "file.readline()"
      ],
      "metadata": {
        "colab": {
          "base_uri": "https://localhost:8080/",
          "height": 35
        },
        "id": "XheLFqXBhVf9",
        "outputId": "3ddd2ab9-cc6b-44b8-efd3-3942699f436e"
      },
      "execution_count": 53,
      "outputs": [
        {
          "output_type": "execute_result",
          "data": {
            "text/plain": [
              "''"
            ],
            "application/vnd.google.colaboratory.intrinsic+json": {
              "type": "string"
            }
          },
          "metadata": {},
          "execution_count": 53
        }
      ]
    },
    {
      "cell_type": "code",
      "source": [
        "file.close()"
      ],
      "metadata": {
        "id": "l2Hfg_68hVSh"
      },
      "execution_count": 54,
      "outputs": []
    },
    {
      "cell_type": "code",
      "source": [
        "file = open(\"sample2.txt\", \"r+\")\n",
        "print(file.readlines())\n",
        "file.close()"
      ],
      "metadata": {
        "colab": {
          "base_uri": "https://localhost:8080/"
        },
        "id": "cwcqWJC9hv23",
        "outputId": "f282d4a3-da23-4543-940b-9be7e09753d6"
      },
      "execution_count": 55,
      "outputs": [
        {
          "output_type": "stream",
          "name": "stdout",
          "text": [
            "['this is line\\n', 'this is second line\\n', 'and third line']\n"
          ]
        }
      ]
    },
    {
      "cell_type": "code",
      "source": [
        "file = open(\"sample2.txt\", \"r+\")\n",
        "\n",
        "while True:\n",
        "  line = file.readline()\n",
        "  if not line:\n",
        "    break\n",
        "  print(line)"
      ],
      "metadata": {
        "colab": {
          "base_uri": "https://localhost:8080/"
        },
        "id": "OTsp_pTJhvxz",
        "outputId": "3ec3c26a-a3b2-41d6-f1bc-8cf1ba85cfd8"
      },
      "execution_count": 59,
      "outputs": [
        {
          "output_type": "stream",
          "name": "stdout",
          "text": [
            "this is line\n",
            "\n",
            "this is second line\n",
            "\n",
            "and third line\n"
          ]
        }
      ]
    },
    {
      "cell_type": "code",
      "source": [
        "file.close()"
      ],
      "metadata": {
        "id": "Vd8zpXz3hvqo"
      },
      "execution_count": 57,
      "outputs": []
    },
    {
      "cell_type": "code",
      "source": [
        "file = open(\"sample2.txt\", \"r+\")\n",
        "\n",
        "while True:\n",
        "  chunk = file.read(256)\n",
        "  if not chunk:\n",
        "    break\n",
        "  print(chunk)\n",
        "\n",
        "file.close()"
      ],
      "metadata": {
        "colab": {
          "base_uri": "https://localhost:8080/"
        },
        "id": "j1PksSkikoDq",
        "outputId": "09c611bf-fcdf-43e5-cb45-6c7ef3044390"
      },
      "execution_count": 60,
      "outputs": [
        {
          "output_type": "stream",
          "name": "stdout",
          "text": [
            "th\n",
            "is\n",
            " i\n",
            "s \n",
            "li\n",
            "ne\n",
            "\n",
            "t\n",
            "hi\n",
            "s \n",
            "is\n",
            " s\n",
            "ec\n",
            "on\n",
            "d \n",
            "li\n",
            "ne\n",
            "\n",
            "a\n",
            "nd\n",
            " t\n",
            "hi\n",
            "rd\n",
            " l\n",
            "in\n",
            "e\n"
          ]
        }
      ]
    },
    {
      "cell_type": "code",
      "source": [
        "source = open(\"sample.jpeg\", \"rb+\")\n",
        "destination = open(\"sample2.jpeg\", \"wb+\")\n",
        "\n",
        "while True:\n",
        "  chunk = source.read(256)\n",
        "  if not chunk:\n",
        "    break\n",
        "  destination.write(chunk)\n",
        "\n",
        "file.close()"
      ],
      "metadata": {
        "id": "bsHhYDPtlnth"
      },
      "execution_count": 66,
      "outputs": []
    },
    {
      "cell_type": "code",
      "source": [
        ""
      ],
      "metadata": {
        "id": "hcPKld9GlnnQ"
      },
      "execution_count": null,
      "outputs": []
    },
    {
      "cell_type": "code",
      "source": [
        ""
      ],
      "metadata": {
        "id": "cnsYBsT6knv6"
      },
      "execution_count": null,
      "outputs": []
    },
    {
      "cell_type": "markdown",
      "metadata": {
        "id": "QVedARMPUP2b"
      },
      "source": [
        "### Moving the cursor\n",
        "\n",
        "- seek(n) : takes the file read handle to the nth byte from the beginning."
      ]
    },
    {
      "cell_type": "code",
      "execution_count": 75,
      "metadata": {
        "id": "oE2VMOYnUP2b"
      },
      "outputs": [],
      "source": [
        "file = open(\"sample.txt\", \"r+\")"
      ]
    },
    {
      "cell_type": "code",
      "source": [
        "file.read(1)"
      ],
      "metadata": {
        "colab": {
          "base_uri": "https://localhost:8080/",
          "height": 35
        },
        "id": "EWAnJvOLnSyE",
        "outputId": "36e696f3-a1e4-49c1-f4d8-df69bea47bbe"
      },
      "execution_count": 76,
      "outputs": [
        {
          "output_type": "execute_result",
          "data": {
            "text/plain": [
              "'H'"
            ],
            "application/vnd.google.colaboratory.intrinsic+json": {
              "type": "string"
            }
          },
          "metadata": {},
          "execution_count": 76
        }
      ]
    },
    {
      "cell_type": "code",
      "source": [
        "file.read(1)"
      ],
      "metadata": {
        "colab": {
          "base_uri": "https://localhost:8080/",
          "height": 35
        },
        "id": "d0E8CTObnSka",
        "outputId": "e0ce202e-3cbb-4a6e-bfb4-ee4cedeb7174"
      },
      "execution_count": 77,
      "outputs": [
        {
          "output_type": "execute_result",
          "data": {
            "text/plain": [
              "'e'"
            ],
            "application/vnd.google.colaboratory.intrinsic+json": {
              "type": "string"
            }
          },
          "metadata": {},
          "execution_count": 77
        }
      ]
    },
    {
      "cell_type": "code",
      "source": [
        "file.read(1)"
      ],
      "metadata": {
        "colab": {
          "base_uri": "https://localhost:8080/",
          "height": 35
        },
        "id": "7_6pCtgHnkzo",
        "outputId": "f79c969f-e5e2-44b0-a51f-a59011ac87dc"
      },
      "execution_count": 78,
      "outputs": [
        {
          "output_type": "execute_result",
          "data": {
            "text/plain": [
              "'l'"
            ],
            "application/vnd.google.colaboratory.intrinsic+json": {
              "type": "string"
            }
          },
          "metadata": {},
          "execution_count": 78
        }
      ]
    },
    {
      "cell_type": "code",
      "source": [
        "file.write(\"something\")"
      ],
      "metadata": {
        "colab": {
          "base_uri": "https://localhost:8080/"
        },
        "id": "Mo7zNNKVnktG",
        "outputId": "029e9528-c3af-4ba4-9166-c7e7ac895174"
      },
      "execution_count": 79,
      "outputs": [
        {
          "output_type": "execute_result",
          "data": {
            "text/plain": [
              "9"
            ]
          },
          "metadata": {},
          "execution_count": 79
        }
      ]
    },
    {
      "cell_type": "code",
      "source": [
        "file.close()"
      ],
      "metadata": {
        "id": "pBdwupPenklF"
      },
      "execution_count": 80,
      "outputs": []
    },
    {
      "cell_type": "code",
      "source": [
        "file = open(\"sample.txt\", \"r+\")\n",
        "print(file.read())\n",
        "file.close()"
      ],
      "metadata": {
        "colab": {
          "base_uri": "https://localhost:8080/"
        },
        "id": "YUKIWAkGnx06",
        "outputId": "dfefc999-bda0-484f-b1ae-609db5c416ef"
      },
      "execution_count": 83,
      "outputs": [
        {
          "output_type": "stream",
          "name": "stdout",
          "text": [
            "Hello World!hello everyone else!somethingsomething\n"
          ]
        }
      ]
    },
    {
      "cell_type": "code",
      "source": [
        "file = open(\"sample.txt\", \"r+\")\n",
        "file.seek(4)\n",
        "print(file.read())\n",
        "file.close()"
      ],
      "metadata": {
        "colab": {
          "base_uri": "https://localhost:8080/"
        },
        "id": "YVWKID_2nxsA",
        "outputId": "fe5562a9-6bae-400d-ca67-740c43ff11f5"
      },
      "execution_count": 85,
      "outputs": [
        {
          "output_type": "stream",
          "name": "stdout",
          "text": [
            "o World!hello everyone else!somethingsomethingsomething\n"
          ]
        }
      ]
    },
    {
      "cell_type": "markdown",
      "metadata": {
        "id": "g61kLJcwUP2b"
      },
      "source": [
        "### Smarter way of opening files...\n",
        "\n",
        "With the \"with\" statement, you get better syntax and exceptions handling. \n",
        "\n",
        "\"The with statement simplifies exception handling by encapsulating common\n",
        "preparation and cleanup tasks.\"\n",
        "\n",
        "In addition, it will automatically close the file. The with statement provides\n",
        "a way for ensuring that a clean-up is always used.\n"
      ]
    },
    {
      "cell_type": "code",
      "execution_count": 88,
      "metadata": {
        "colab": {
          "base_uri": "https://localhost:8080/",
          "height": 240
        },
        "id": "mpxl4aPiUP2c",
        "outputId": "ca1dd228-012d-42ba-bd46-c6e4d8e897f6"
      },
      "outputs": [
        {
          "output_type": "stream",
          "name": "stdout",
          "text": [
            "Hello World!hello everyone else!somethingsomethingsomething\n",
            "Hello World!hello everyone else!somethingsomethingsomething\n"
          ]
        },
        {
          "output_type": "error",
          "ename": "ValueError",
          "evalue": "ignored",
          "traceback": [
            "\u001b[0;31m---------------------------------------------------------------------------\u001b[0m",
            "\u001b[0;31mValueError\u001b[0m                                Traceback (most recent call last)",
            "\u001b[0;32m<ipython-input-88-e02c83a3c8b0>\u001b[0m in \u001b[0;36m<module>\u001b[0;34m()\u001b[0m\n\u001b[1;32m      4\u001b[0m   \u001b[0mprint\u001b[0m\u001b[0;34m(\u001b[0m\u001b[0mfile\u001b[0m\u001b[0;34m.\u001b[0m\u001b[0mread\u001b[0m\u001b[0;34m(\u001b[0m\u001b[0;34m)\u001b[0m\u001b[0;34m)\u001b[0m\u001b[0;34m\u001b[0m\u001b[0;34m\u001b[0m\u001b[0m\n\u001b[1;32m      5\u001b[0m \u001b[0;34m\u001b[0m\u001b[0m\n\u001b[0;32m----> 6\u001b[0;31m \u001b[0mprint\u001b[0m\u001b[0;34m(\u001b[0m\u001b[0mfile\u001b[0m\u001b[0;34m.\u001b[0m\u001b[0mread\u001b[0m\u001b[0;34m(\u001b[0m\u001b[0;34m)\u001b[0m\u001b[0;34m)\u001b[0m\u001b[0;34m\u001b[0m\u001b[0;34m\u001b[0m\u001b[0m\n\u001b[0m",
            "\u001b[0;31mValueError\u001b[0m: I/O operation on closed file."
          ]
        }
      ],
      "source": [
        "with open(\"sample.txt\", \"r+\") as file:\n",
        "  print(file.read())\n",
        "  file.seek(0)\n",
        "  print(file.read())"
      ]
    },
    {
      "cell_type": "code",
      "source": [
        ""
      ],
      "metadata": {
        "id": "x1E2e9GQojDh"
      },
      "execution_count": null,
      "outputs": []
    },
    {
      "cell_type": "code",
      "source": [
        ""
      ],
      "metadata": {
        "id": "Bifo2RBUoi4G"
      },
      "execution_count": null,
      "outputs": []
    },
    {
      "cell_type": "markdown",
      "metadata": {
        "id": "QfxlP9n3UP2c"
      },
      "source": [
        "## 2. JSON files\n",
        "\n",
        ">Javascript Object Notation abbreviated as JSON is a light-weight data interchange format. It Encode Python objects as JSON strings, and decode JSON strings into Python objects "
      ]
    },
    {
      "cell_type": "markdown",
      "metadata": {
        "id": "kxMgUpuKUP2c"
      },
      "source": [
        "- **json.dump(obj, fileObj) :** Serializes obj as a JSON formatted stream to fileObj.\n",
        "- **json.dumps(obj) :** Serializes obj as JSON formatted string.\n",
        "- **json.load(JSONfile) :** De-serializes JSONfile to a Python object.\n",
        "- **json.loads(JSONfile) :** De-serializes JSONfile(type: string) to a Python object."
      ]
    }
  ],
  "metadata": {
    "kernelspec": {
      "display_name": "Python 3",
      "language": "python",
      "name": "python3"
    },
    "language_info": {
      "codemirror_mode": {
        "name": "ipython",
        "version": 3
      },
      "file_extension": ".py",
      "mimetype": "text/x-python",
      "name": "python",
      "nbconvert_exporter": "python",
      "pygments_lexer": "ipython3",
      "version": "3.6.3"
    },
    "colab": {
      "name": "File Handling",
      "provenance": [],
      "include_colab_link": true
    }
  },
  "nbformat": 4,
  "nbformat_minor": 0
}