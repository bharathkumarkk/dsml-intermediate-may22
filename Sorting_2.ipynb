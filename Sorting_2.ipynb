{
  "nbformat": 4,
  "nbformat_minor": 0,
  "metadata": {
    "colab": {
      "name": "Sorting 2",
      "provenance": [],
      "collapsed_sections": [],
      "authorship_tag": "ABX9TyME74hjckC3X6m7vz+uBszF",
      "include_colab_link": true
    },
    "kernelspec": {
      "name": "python3",
      "display_name": "Python 3"
    },
    "language_info": {
      "name": "python"
    }
  },
  "cells": [
    {
      "cell_type": "markdown",
      "metadata": {
        "id": "view-in-github",
        "colab_type": "text"
      },
      "source": [
        "<a href=\"https://colab.research.google.com/github/scaleracademy/dsml-intermediate-may22/blob/main/Sorting_2.ipynb\" target=\"_parent\"><img src=\"https://colab.research.google.com/assets/colab-badge.svg\" alt=\"Open In Colab\"/></a>"
      ]
    },
    {
      "cell_type": "code",
      "execution_count": null,
      "metadata": {
        "id": "ZMSwL6F82HeR"
      },
      "outputs": [],
      "source": [
        "sorted([1, 2, 3, 4, 6, 5])"
      ]
    },
    {
      "cell_type": "code",
      "source": [
        "def insertion_sort(arr):\n",
        "  n = len(arr)\n",
        "  for i in range(1, n):\n",
        "    element_to_insert = arr[i]\n",
        "\n",
        "    j = i-1\n",
        "    while j >= 0 and element_to_insert < arr[j]:\n",
        "      arr[j+1] = arr[j]\n",
        "      j -= 1\n",
        "    \n",
        "    arr[j+1] = element_to_insert\n",
        "\n",
        "  return arr"
      ],
      "metadata": {
        "id": "zZ3devehEPKG"
      },
      "execution_count": 3,
      "outputs": []
    },
    {
      "cell_type": "code",
      "source": [
        "insertion_sort([5, 2, 1, 3, 4])"
      ],
      "metadata": {
        "colab": {
          "base_uri": "https://localhost:8080/"
        },
        "id": "gtVRN0qaKK6D",
        "outputId": "cf8ddeed-3c0a-48d7-f9fc-83abf5a239ff"
      },
      "execution_count": 4,
      "outputs": [
        {
          "output_type": "execute_result",
          "data": {
            "text/plain": [
              "[1, 2, 3, 4, 5]"
            ]
          },
          "metadata": {},
          "execution_count": 4
        }
      ]
    },
    {
      "cell_type": "code",
      "source": [
        ""
      ],
      "metadata": {
        "id": "Uq-aOOa5KM71"
      },
      "execution_count": null,
      "outputs": []
    }
  ]
}