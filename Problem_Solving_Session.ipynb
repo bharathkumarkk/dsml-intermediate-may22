{
  "nbformat": 4,
  "nbformat_minor": 0,
  "metadata": {
    "colab": {
      "name": "Problem Solving Session",
      "provenance": [],
      "authorship_tag": "ABX9TyNIJskK21piW5f0AhWK0nZD",
      "include_colab_link": true
    },
    "kernelspec": {
      "name": "python3",
      "display_name": "Python 3"
    },
    "language_info": {
      "name": "python"
    }
  },
  "cells": [
    {
      "cell_type": "markdown",
      "metadata": {
        "id": "view-in-github",
        "colab_type": "text"
      },
      "source": [
        "<a href=\"https://colab.research.google.com/github/scaleracademy/dsml-intermediate-may22/blob/main/Problem_Solving_Session.ipynb\" target=\"_parent\"><img src=\"https://colab.research.google.com/assets/colab-badge.svg\" alt=\"Open In Colab\"/></a>"
      ]
    },
    {
      "cell_type": "markdown",
      "source": [
        "`zip` function"
      ],
      "metadata": {
        "id": "MYdu2TuB7CjV"
      }
    },
    {
      "cell_type": "code",
      "execution_count": 1,
      "metadata": {
        "id": "7itB1hYz13ms"
      },
      "outputs": [],
      "source": [
        "a = [1, 2, 3, 4]\n",
        "b = \"abcd\""
      ]
    },
    {
      "cell_type": "code",
      "source": [
        "names = [\"A\", \"B\", \"C\", \"D\"]\n",
        "marks = [100, 90, 50, 80]\n",
        "sections = [\"A\", \"B\", \"A\", \"A\"]"
      ],
      "metadata": {
        "id": "UpDz_dcZ7JMk"
      },
      "execution_count": 7,
      "outputs": []
    },
    {
      "cell_type": "code",
      "source": [
        "for x in zip(names, marks, sections):\n",
        "  print(x)"
      ],
      "metadata": {
        "colab": {
          "base_uri": "https://localhost:8080/"
        },
        "id": "qPDrwOVx7S3c",
        "outputId": "46b36bde-49fb-42bf-e391-680734bf0014"
      },
      "execution_count": 8,
      "outputs": [
        {
          "output_type": "stream",
          "name": "stdout",
          "text": [
            "('A', 100, 'A')\n",
            "('B', 90, 'B')\n",
            "('C', 50, 'A')\n",
            "('D', 80, 'A')\n"
          ]
        }
      ]
    },
    {
      "cell_type": "code",
      "source": [
        "list(zip(names, marks))"
      ],
      "metadata": {
        "colab": {
          "base_uri": "https://localhost:8080/"
        },
        "id": "icnQScTj7uAX",
        "outputId": "74bc2ce5-0edc-4708-a150-fd683c19919e"
      },
      "execution_count": 4,
      "outputs": [
        {
          "output_type": "execute_result",
          "data": {
            "text/plain": [
              "[('A', 100), ('B', 90), ('C', 50), ('D', 80)]"
            ]
          },
          "metadata": {},
          "execution_count": 4
        }
      ]
    },
    {
      "cell_type": "code",
      "source": [
        "for name, score, section in zip(names, marks, sections):\n",
        "  print(name, score, section)"
      ],
      "metadata": {
        "colab": {
          "base_uri": "https://localhost:8080/"
        },
        "id": "1fH81K187xox",
        "outputId": "0f61d015-c004-4aec-e987-5f265a6f6926"
      },
      "execution_count": 9,
      "outputs": [
        {
          "output_type": "stream",
          "name": "stdout",
          "text": [
            "A 100 A\n",
            "B 90 B\n",
            "C 50 A\n",
            "D 80 A\n"
          ]
        }
      ]
    },
    {
      "cell_type": "code",
      "source": [
        "a = [1, 2, 3, 4, 5]\n",
        "b = [\"a\", \"b\", \"c\"]"
      ],
      "metadata": {
        "id": "1-G61uCz8Xao"
      },
      "execution_count": 10,
      "outputs": []
    },
    {
      "cell_type": "code",
      "source": [
        "list(zip(a, b))"
      ],
      "metadata": {
        "colab": {
          "base_uri": "https://localhost:8080/"
        },
        "id": "5OckoGeu8ciK",
        "outputId": "4f4a708e-98c1-40fc-9b4c-10399e37ffe8"
      },
      "execution_count": 11,
      "outputs": [
        {
          "output_type": "execute_result",
          "data": {
            "text/plain": [
              "[(1, 'a'), (2, 'b'), (3, 'c')]"
            ]
          },
          "metadata": {},
          "execution_count": 11
        }
      ]
    },
    {
      "cell_type": "code",
      "source": [
        "d = {\"name\": \"jatin\", \"language\": \"python\"}\n",
        "l = [1, 2]"
      ],
      "metadata": {
        "id": "Zaw9EGlY8hgU"
      },
      "execution_count": 15,
      "outputs": []
    },
    {
      "cell_type": "code",
      "source": [
        "list(zip(d, l))"
      ],
      "metadata": {
        "colab": {
          "base_uri": "https://localhost:8080/"
        },
        "id": "nq2wU4h287gZ",
        "outputId": "5dc2c063-3e36-41d6-c625-afe08f9e43fa"
      },
      "execution_count": 20,
      "outputs": [
        {
          "output_type": "execute_result",
          "data": {
            "text/plain": [
              "[('name', 1), ('language', 2)]"
            ]
          },
          "metadata": {},
          "execution_count": 20
        }
      ]
    },
    {
      "cell_type": "code",
      "source": [
        "for x in d:\n",
        "  print(x)"
      ],
      "metadata": {
        "colab": {
          "base_uri": "https://localhost:8080/"
        },
        "id": "zAUPWpXY9MyH",
        "outputId": "44eb2f4d-a9bb-4efb-f8cb-aab812661511"
      },
      "execution_count": 17,
      "outputs": [
        {
          "output_type": "stream",
          "name": "stdout",
          "text": [
            "name\n",
            "language\n"
          ]
        }
      ]
    },
    {
      "cell_type": "code",
      "source": [
        "for x in l:\n",
        "  print(x)"
      ],
      "metadata": {
        "colab": {
          "base_uri": "https://localhost:8080/"
        },
        "id": "7vvvC9Ke9QHo",
        "outputId": "060b9c7d-a7a3-4dd3-b7f5-2d8c41ed63e5"
      },
      "execution_count": 18,
      "outputs": [
        {
          "output_type": "stream",
          "name": "stdout",
          "text": [
            "1\n",
            "2\n"
          ]
        }
      ]
    },
    {
      "cell_type": "markdown",
      "source": [
        "# Decorators\n",
        "Decorators are the functions which take functions as an argument and returns the modified function."
      ],
      "metadata": {
        "id": "JJFFGM4894Gw"
      }
    },
    {
      "cell_type": "code",
      "source": [
        "def foo(a):\n",
        "  res = a**2\n",
        "\n",
        "  return res"
      ],
      "metadata": {
        "id": "HlZxH1kY9R7p"
      },
      "execution_count": 21,
      "outputs": []
    },
    {
      "cell_type": "code",
      "source": [
        "def bar(f):\n",
        "  def res():\n",
        "    print(\"Start executing\")\n",
        "    f()\n",
        "    print(\"End Executing\")\n",
        "  \n",
        "  return res"
      ],
      "metadata": {
        "id": "iqVrt16C-Cec"
      },
      "execution_count": 26,
      "outputs": []
    },
    {
      "cell_type": "code",
      "source": [
        "def sheldon_knock():\n",
        "  print(\"knock knock knock leanord\")\n",
        "  print(\"knock knock knock leanord\")\n",
        "  print(\"knock knock knock leanord\")\n",
        "\n",
        "sheldon_knock = bar(sheldon_knock)"
      ],
      "metadata": {
        "id": "Zs7GHaOE_4m1"
      },
      "execution_count": 35,
      "outputs": []
    },
    {
      "cell_type": "code",
      "source": [
        "@bar\n",
        "def sheldon_knock():\n",
        "  print(\"knock knock knock leanord\")\n",
        "  print(\"knock knock knock leanord\")\n",
        "  print(\"knock knock knock leanord\")"
      ],
      "metadata": {
        "id": "7ybtW0JWAwEx"
      },
      "execution_count": 36,
      "outputs": []
    },
    {
      "cell_type": "code",
      "source": [
        "sheldon_knock()"
      ],
      "metadata": {
        "colab": {
          "base_uri": "https://localhost:8080/"
        },
        "id": "tK6P4aWOECck",
        "outputId": "032d78db-514e-4210-cee2-7d9b0c5c565e"
      },
      "execution_count": 34,
      "outputs": [
        {
          "output_type": "stream",
          "name": "stdout",
          "text": [
            "Start executing\n",
            "knock knock knock leanord\n",
            "knock knock knock leanord\n",
            "knock knock knock leanord\n",
            "End Executing\n"
          ]
        }
      ]
    },
    {
      "cell_type": "code",
      "source": [
        "foo = bar(foo)"
      ],
      "metadata": {
        "id": "9cpFsKeEETW5"
      },
      "execution_count": 37,
      "outputs": []
    },
    {
      "cell_type": "markdown",
      "source": [
        "1. Write a decorator that prints 10 \"*\" before and after the execution of ANY function with ANY number of arguments and ANY return type."
      ],
      "metadata": {
        "id": "1xJR7X1vFhop"
      }
    },
    {
      "cell_type": "code",
      "source": [
        "def star_dec(f):\n",
        "  def wrapper(*args, **kwargs):\n",
        "    print(\"*\" * 10)\n",
        "    ret = f(*args, **kwargs)\n",
        "    print(\"*\" * 10)\n",
        "    return ret\n",
        "  \n",
        "  return wrapper"
      ],
      "metadata": {
        "id": "N4HnIDr_E3Hr"
      },
      "execution_count": 39,
      "outputs": []
    },
    {
      "cell_type": "code",
      "source": [
        "@star_dec\n",
        "def square(x):\n",
        "  return x**2"
      ],
      "metadata": {
        "id": "PIZcy2bbGCIE"
      },
      "execution_count": 40,
      "outputs": []
    },
    {
      "cell_type": "code",
      "source": [
        "a = square(5)"
      ],
      "metadata": {
        "colab": {
          "base_uri": "https://localhost:8080/"
        },
        "id": "XxQNpBCsGFqd",
        "outputId": "cd9d07e2-c9b1-4b67-ed7f-7b56e94340a9"
      },
      "execution_count": 42,
      "outputs": [
        {
          "output_type": "stream",
          "name": "stdout",
          "text": [
            "**********\n",
            "**********\n"
          ]
        }
      ]
    },
    {
      "cell_type": "code",
      "source": [
        "print(a)"
      ],
      "metadata": {
        "colab": {
          "base_uri": "https://localhost:8080/"
        },
        "id": "zkl_mlCDGG1L",
        "outputId": "40b94ecf-1e1a-4d79-f9ff-b8a5efce8a20"
      },
      "execution_count": 43,
      "outputs": [
        {
          "output_type": "stream",
          "name": "stdout",
          "text": [
            "25\n"
          ]
        }
      ]
    },
    {
      "cell_type": "code",
      "source": [
        "sorted([1, 5, 2, 3, 1, 7])"
      ],
      "metadata": {
        "colab": {
          "base_uri": "https://localhost:8080/"
        },
        "id": "olxnkdBeGKNV",
        "outputId": "42d886e1-58cc-4e6d-f8d9-bf9fc98ce175"
      },
      "execution_count": 44,
      "outputs": [
        {
          "output_type": "execute_result",
          "data": {
            "text/plain": [
              "[1, 1, 2, 3, 5, 7]"
            ]
          },
          "metadata": {},
          "execution_count": 44
        }
      ]
    },
    {
      "cell_type": "code",
      "source": [
        "def second_smallest(arr):\n",
        "  return sorted(set(arr))[1]"
      ],
      "metadata": {
        "id": "KVEqWfbOIoKM"
      },
      "execution_count": 50,
      "outputs": []
    },
    {
      "cell_type": "code",
      "source": [
        "second_smallest([1, 5, 2, 3, 1, 7])"
      ],
      "metadata": {
        "colab": {
          "base_uri": "https://localhost:8080/"
        },
        "id": "lN38K_i8I7wv",
        "outputId": "17082fff-5ba2-4d7a-e490-9c69515fdd00"
      },
      "execution_count": 51,
      "outputs": [
        {
          "output_type": "execute_result",
          "data": {
            "text/plain": [
              "2"
            ]
          },
          "metadata": {},
          "execution_count": 51
        }
      ]
    },
    {
      "cell_type": "code",
      "source": [
        "def second_smallest(arr):\n",
        "  arr = list(set(arr))\n",
        "  smallest = min(arr[0], arr[1])\n",
        "  second_smallest = max(arr[0], arr[1])\n",
        "\n",
        "  for a in arr[2:]:\n",
        "    if a < smallest:\n",
        "      second_smallest = smallest\n",
        "      smallest = a\n",
        "    elif smallest < a < second_smallest:\n",
        "      second_smallest = a\n",
        "    elif second_smallest < a:\n",
        "      pass\n",
        "  \n",
        "  return second_smallest"
      ],
      "metadata": {
        "id": "n5JIi01iI999"
      },
      "execution_count": 57,
      "outputs": []
    },
    {
      "cell_type": "code",
      "source": [
        "second_smallest([1, 5, 2, 2, 3, 1, 7])"
      ],
      "metadata": {
        "colab": {
          "base_uri": "https://localhost:8080/"
        },
        "id": "ktWSctyALCuF",
        "outputId": "23ac55f2-2f78-4e62-dee3-a445378de779"
      },
      "execution_count": 58,
      "outputs": [
        {
          "output_type": "stream",
          "name": "stdout",
          "text": [
            "[1, 2, 3, 5, 7]\n"
          ]
        },
        {
          "output_type": "execute_result",
          "data": {
            "text/plain": [
              "2"
            ]
          },
          "metadata": {},
          "execution_count": 58
        }
      ]
    },
    {
      "cell_type": "code",
      "source": [
        "a = [5, 1, 4, 2, 3, 7]"
      ],
      "metadata": {
        "id": "PKlBWH2cLEGo"
      },
      "execution_count": 59,
      "outputs": []
    },
    {
      "cell_type": "code",
      "source": [
        "from functools import reduce\n",
        "\n",
        "smallest = reduce(lambda acc, x: min(acc, x), a)\n",
        "arr_without_smallest = filter(lambda x: x != smallest, a)\n",
        "second_smallest = reduce(lambda acc, x: min(acc, x), arr_without_smallest)"
      ],
      "metadata": {
        "id": "htSP9ANhL-p0"
      },
      "execution_count": 64,
      "outputs": []
    },
    {
      "cell_type": "code",
      "source": [
        "second_smallest"
      ],
      "metadata": {
        "colab": {
          "base_uri": "https://localhost:8080/"
        },
        "id": "bBzrdd7tMOth",
        "outputId": "f11df0be-a5d9-4378-b35d-cf0f4dcc1b1a"
      },
      "execution_count": 65,
      "outputs": [
        {
          "output_type": "execute_result",
          "data": {
            "text/plain": [
              "2"
            ]
          },
          "metadata": {},
          "execution_count": 65
        }
      ]
    },
    {
      "cell_type": "code",
      "source": [
        "list = [(1, 1), (2, 3), (3, 1)]\n",
        "list.sort(key= lambda x : x[1])"
      ],
      "metadata": {
        "id": "1nFiVtPZNg8a"
      },
      "execution_count": 67,
      "outputs": []
    },
    {
      "cell_type": "code",
      "source": [
        "list"
      ],
      "metadata": {
        "colab": {
          "base_uri": "https://localhost:8080/"
        },
        "id": "lykV2xXYP8nQ",
        "outputId": "8fb70a54-02bc-40c4-ebbb-a26fdfa95d9b"
      },
      "execution_count": 68,
      "outputs": [
        {
          "output_type": "execute_result",
          "data": {
            "text/plain": [
              "[(1, 1), (3, 1), (2, 3)]"
            ]
          },
          "metadata": {},
          "execution_count": 68
        }
      ]
    },
    {
      "cell_type": "markdown",
      "source": [
        "Q13. 2nd lowest\n",
        "Attempted\n",
        "character backgroundcharacter\n",
        "Stuck somewhere?\n",
        "Ask for help from a TA and get it resolved.\n",
        "Get help from TA.\n",
        "Problem Description: Complete the Python function second_lowest() to find the second-lowest grade of students from the given names and grades of each student using lists and lambda function. For the input, the number of students, names, and the grades of each student were given. Sample Input: 5 #Number of students\n",
        "S ROY\n",
        "1\n",
        "B BOSE\n",
        "3\n",
        "N KAR\n",
        "2\n",
        "C DUTTA\n",
        "1\n",
        "G GHOSH\n",
        "1\n",
        "Sample Output: [['S ROY', 1.0], ['B BOSE', 3.0], ['N KAR', 2.0], ['C DUTTA', 1.0], ['G GHOSH', 1.0]]\n",
        "2.0\n",
        "N KAR\n",
        "Sample Explanation: Initially, the input data is printed in the form of 2d-list. Post that, the second-lowest grade is printed, and after that, we print the name(s) of the student who has that grade"
      ],
      "metadata": {
        "id": "ovWAsp88RMz9"
      }
    },
    {
      "cell_type": "markdown",
      "source": [
        "def timeHandle(a,b,c,d):\n",
        "'''inputs: a,b = hours and mins of t1\n",
        "c,d = hours and mins of t2\n",
        "Output: Two lines of output for each pair of t1 and t2. The code for printing outputs is already just make sure to return in the methods.'''\n",
        "# The code for taking input and printing output is already taken care of.\n",
        "class Spanoftime: def __init__(self,h,m): self.hours=h self.mins=m\n"
      ],
      "metadata": {
        "id": "HWLJwihNRovb"
      }
    },
    {
      "cell_type": "code",
      "source": [
        "def addTime(t1, t2):\n",
        "  # hours \n",
        "  # minutes\n",
        "  return Spanoftime(hours, minutes)"
      ],
      "metadata": {
        "id": "5HzBgPofQEmz"
      },
      "execution_count": null,
      "outputs": []
    },
    {
      "cell_type": "code",
      "source": [
        "class A():\n",
        "  def __a(self):\n",
        "    print(\"test\") \n",
        "    \n",
        "aa = A()\n",
        "print(dir(aa))\n",
        "aa._A__a()"
      ],
      "metadata": {
        "colab": {
          "base_uri": "https://localhost:8080/"
        },
        "id": "jVV5vtxQSf9H",
        "outputId": "77ab2ed3-0a5e-4ac9-c552-a3d820e4b01a"
      },
      "execution_count": 69,
      "outputs": [
        {
          "output_type": "stream",
          "name": "stdout",
          "text": [
            "['_A__a', '__class__', '__delattr__', '__dict__', '__dir__', '__doc__', '__eq__', '__format__', '__ge__', '__getattribute__', '__gt__', '__hash__', '__init__', '__init_subclass__', '__le__', '__lt__', '__module__', '__ne__', '__new__', '__reduce__', '__reduce_ex__', '__repr__', '__setattr__', '__sizeof__', '__str__', '__subclasshook__', '__weakref__']\n",
            "test\n"
          ]
        }
      ]
    },
    {
      "cell_type": "code",
      "source": [
        "class A:\n",
        "  def __str__(self):\n",
        "    return \"string form of a\""
      ],
      "metadata": {
        "id": "hn-le6sySgqc"
      },
      "execution_count": 74,
      "outputs": []
    },
    {
      "cell_type": "code",
      "source": [
        "a = A()\n",
        "str(a)"
      ],
      "metadata": {
        "colab": {
          "base_uri": "https://localhost:8080/",
          "height": 35
        },
        "id": "oR6oDBlBTlLF",
        "outputId": "7565ccce-6158-4b46-b1e9-7b8892631b96"
      },
      "execution_count": 75,
      "outputs": [
        {
          "output_type": "execute_result",
          "data": {
            "text/plain": [
              "'string form of a'"
            ],
            "application/vnd.google.colaboratory.intrinsic+json": {
              "type": "string"
            }
          },
          "metadata": {},
          "execution_count": 75
        }
      ]
    },
    {
      "cell_type": "code",
      "source": [
        "print(a)"
      ],
      "metadata": {
        "colab": {
          "base_uri": "https://localhost:8080/"
        },
        "id": "VEn7a3y4TnDH",
        "outputId": "effc82e4-3f5e-4595-eead-fe49bcda2d05"
      },
      "execution_count": 76,
      "outputs": [
        {
          "output_type": "stream",
          "name": "stdout",
          "text": [
            "string form of a\n"
          ]
        }
      ]
    },
    {
      "cell_type": "code",
      "source": [
        "class A:\n",
        "  def __init__(self, name):\n",
        "    self.name = name\n",
        "\n",
        "  @property\n",
        "  def something(self):\n",
        "    return self.name"
      ],
      "metadata": {
        "id": "8sK2UFafT9rO"
      },
      "execution_count": 87,
      "outputs": []
    },
    {
      "cell_type": "code",
      "source": [
        "a = A(\"scaler\")\n",
        "a.something()"
      ],
      "metadata": {
        "colab": {
          "base_uri": "https://localhost:8080/",
          "height": 35
        },
        "id": "20OnJllUUPzY",
        "outputId": "bc7ae561-b397-48aa-8ded-6431db4bfefa"
      },
      "execution_count": 88,
      "outputs": [
        {
          "output_type": "execute_result",
          "data": {
            "text/plain": [
              "'scaler'"
            ],
            "application/vnd.google.colaboratory.intrinsic+json": {
              "type": "string"
            }
          },
          "metadata": {},
          "execution_count": 88
        }
      ]
    },
    {
      "cell_type": "code",
      "source": [
        "'scaler'()"
      ],
      "metadata": {
        "id": "OI9Lag_SUdV4"
      },
      "execution_count": null,
      "outputs": []
    },
    {
      "cell_type": "code",
      "source": [
        "class Student: \n",
        "  def __init__(self,roll,marks): \n",
        "    self.roll = roll \n",
        "    self.marks=marks \n",
        "  def display(self): \n",
        "    print('Roll:', self.roll,'Marks:',self.marks, end=\" \") \n",
        "\n",
        "student1= Student(34,'A') \n",
        "student1.age=17 \n",
        "student1.display()\n",
        "print('Age:',student1.age)"
      ],
      "metadata": {
        "colab": {
          "base_uri": "https://localhost:8080/"
        },
        "id": "5jSHuO-gVJwc",
        "outputId": "9a9f21fa-fbf4-448e-cdd8-d864aa6375ef"
      },
      "execution_count": 89,
      "outputs": [
        {
          "output_type": "stream",
          "name": "stdout",
          "text": [
            "Roll: 34 Marks: A Age: 17\n"
          ]
        }
      ]
    },
    {
      "cell_type": "code",
      "source": [
        "class Math:\n",
        "  def add(a,b):\n",
        "    return a+b\n",
        "m1 = Math() \n",
        "m1.add(1,2) # These are 3 arguments m1, 1, 2\n",
        "\n",
        "Math.add(1, 2) # These are 2 arguments 1, 1"
      ],
      "metadata": {
        "id": "JehduOsGVtFW"
      },
      "execution_count": null,
      "outputs": []
    },
    {
      "cell_type": "code",
      "source": [
        "def is_email_valid(email):\n",
        "  if len(email.split(\"@\")) != 2:\n",
        "    return False\n",
        "\n",
        "  user, domain = email.split(\"@\")\n",
        "\n",
        "  if not domain or not user:\n",
        "    return False\n",
        "\n",
        "  if len(user) > 20:\n",
        "    return False\n",
        "\n",
        "  return True"
      ],
      "metadata": {
        "id": "ji1f-KXnWRTL"
      },
      "execution_count": 123,
      "outputs": []
    },
    {
      "cell_type": "code",
      "source": [
        "emails = [\"sara@scaler.com@\", \"brian-23@scaler.com\", \"brute_54@scaler.com\"]\n",
        "sorted([email for email in emails if is_email_valid(email)])"
      ],
      "metadata": {
        "colab": {
          "base_uri": "https://localhost:8080/"
        },
        "id": "6_Fed1GBW7Fl",
        "outputId": "452dc47c-dbcf-4bba-886f-336aa38bc20d"
      },
      "execution_count": 125,
      "outputs": [
        {
          "output_type": "execute_result",
          "data": {
            "text/plain": [
              "['brian-23@scaler.com', 'brute_54@scaler.com']"
            ]
          },
          "metadata": {},
          "execution_count": 125
        }
      ]
    },
    {
      "cell_type": "code",
      "source": [
        ""
      ],
      "metadata": {
        "colab": {
          "base_uri": "https://localhost:8080/"
        },
        "id": "sZKDAfIrXizb",
        "outputId": "5eaffd16-52d6-4402-99fc-edb743cfcb40"
      },
      "execution_count": 105,
      "outputs": [
        {
          "output_type": "execute_result",
          "data": {
            "text/plain": [
              "[]"
            ]
          },
          "metadata": {},
          "execution_count": 105
        }
      ]
    },
    {
      "cell_type": "code",
      "source": [
        "is_email_valid(emails[0])"
      ],
      "metadata": {
        "colab": {
          "base_uri": "https://localhost:8080/"
        },
        "id": "1VfN-W_vXnob",
        "outputId": "a876d800-825f-4928-f654-95c9831e7455"
      },
      "execution_count": 108,
      "outputs": [
        {
          "output_type": "execute_result",
          "data": {
            "text/plain": [
              "False"
            ]
          },
          "metadata": {},
          "execution_count": 108
        }
      ]
    },
    {
      "cell_type": "code",
      "source": [
        "user, domain = emails[0].split(\"@\")"
      ],
      "metadata": {
        "id": "N-HdjDhcYDMz"
      },
      "execution_count": 110,
      "outputs": []
    },
    {
      "cell_type": "code",
      "source": [
        "len(user)"
      ],
      "metadata": {
        "colab": {
          "base_uri": "https://localhost:8080/"
        },
        "id": "psQ71gePYGsP",
        "outputId": "05b01d93-0937-46bb-974e-0af94c99116b"
      },
      "execution_count": 112,
      "outputs": [
        {
          "output_type": "execute_result",
          "data": {
            "text/plain": [
              "4"
            ]
          },
          "metadata": {},
          "execution_count": 112
        }
      ]
    },
    {
      "cell_type": "code",
      "source": [
        "bool(\"\")"
      ],
      "metadata": {
        "colab": {
          "base_uri": "https://localhost:8080/"
        },
        "id": "f2Yyt4UPYLPn",
        "outputId": "c1a47e08-a509-4626-e1c9-7ee5c2ae6c4f"
      },
      "execution_count": 126,
      "outputs": [
        {
          "output_type": "execute_result",
          "data": {
            "text/plain": [
              "False"
            ]
          },
          "metadata": {},
          "execution_count": 126
        }
      ]
    },
    {
      "cell_type": "code",
      "source": [
        ""
      ],
      "metadata": {
        "id": "N-nAx3VwY7-N"
      },
      "execution_count": null,
      "outputs": []
    }
  ]
}